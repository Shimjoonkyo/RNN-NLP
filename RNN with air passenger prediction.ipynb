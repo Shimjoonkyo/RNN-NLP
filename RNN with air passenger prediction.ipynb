{
 "cells": [
  {
   "cell_type": "code",
   "execution_count": 1,
   "metadata": {},
   "outputs": [],
   "source": [
    "import numpy as np\n",
    "import matplotlib.pyplot as plt\n",
    "import pandas as pd\n",
    "from tensorflow.keras import Sequential\n",
    "from tensorflow.keras.layers import Dense, LSTM, Dropout ,Embedding\n",
    "from sklearn.preprocessing import MinMaxScaler"
   ]
  },
  {
   "cell_type": "code",
   "execution_count": 2,
   "metadata": {},
   "outputs": [
    {
     "data": {
      "text/html": [
       "<div>\n",
       "<style scoped>\n",
       "    .dataframe tbody tr th:only-of-type {\n",
       "        vertical-align: middle;\n",
       "    }\n",
       "\n",
       "    .dataframe tbody tr th {\n",
       "        vertical-align: top;\n",
       "    }\n",
       "\n",
       "    .dataframe thead th {\n",
       "        text-align: right;\n",
       "    }\n",
       "</style>\n",
       "<table border=\"1\" class=\"dataframe\">\n",
       "  <thead>\n",
       "    <tr style=\"text-align: right;\">\n",
       "      <th></th>\n",
       "      <th>Month</th>\n",
       "      <th>#Passengers</th>\n",
       "    </tr>\n",
       "  </thead>\n",
       "  <tbody>\n",
       "    <tr>\n",
       "      <th>0</th>\n",
       "      <td>1949-01</td>\n",
       "      <td>112</td>\n",
       "    </tr>\n",
       "    <tr>\n",
       "      <th>1</th>\n",
       "      <td>1949-02</td>\n",
       "      <td>118</td>\n",
       "    </tr>\n",
       "    <tr>\n",
       "      <th>2</th>\n",
       "      <td>1949-03</td>\n",
       "      <td>132</td>\n",
       "    </tr>\n",
       "    <tr>\n",
       "      <th>3</th>\n",
       "      <td>1949-04</td>\n",
       "      <td>129</td>\n",
       "    </tr>\n",
       "    <tr>\n",
       "      <th>4</th>\n",
       "      <td>1949-05</td>\n",
       "      <td>121</td>\n",
       "    </tr>\n",
       "    <tr>\n",
       "      <th>...</th>\n",
       "      <td>...</td>\n",
       "      <td>...</td>\n",
       "    </tr>\n",
       "    <tr>\n",
       "      <th>139</th>\n",
       "      <td>1960-08</td>\n",
       "      <td>606</td>\n",
       "    </tr>\n",
       "    <tr>\n",
       "      <th>140</th>\n",
       "      <td>1960-09</td>\n",
       "      <td>508</td>\n",
       "    </tr>\n",
       "    <tr>\n",
       "      <th>141</th>\n",
       "      <td>1960-10</td>\n",
       "      <td>461</td>\n",
       "    </tr>\n",
       "    <tr>\n",
       "      <th>142</th>\n",
       "      <td>1960-11</td>\n",
       "      <td>390</td>\n",
       "    </tr>\n",
       "    <tr>\n",
       "      <th>143</th>\n",
       "      <td>1960-12</td>\n",
       "      <td>432</td>\n",
       "    </tr>\n",
       "  </tbody>\n",
       "</table>\n",
       "<p>144 rows × 2 columns</p>\n",
       "</div>"
      ],
      "text/plain": [
       "       Month  #Passengers\n",
       "0    1949-01          112\n",
       "1    1949-02          118\n",
       "2    1949-03          132\n",
       "3    1949-04          129\n",
       "4    1949-05          121\n",
       "..       ...          ...\n",
       "139  1960-08          606\n",
       "140  1960-09          508\n",
       "141  1960-10          461\n",
       "142  1960-11          390\n",
       "143  1960-12          432\n",
       "\n",
       "[144 rows x 2 columns]"
      ]
     },
     "execution_count": 2,
     "metadata": {},
     "output_type": "execute_result"
    }
   ],
   "source": [
    "data=pd.read_csv('data/airpassengers.csv')\n",
    "data"
   ]
  },
  {
   "cell_type": "code",
   "execution_count": 3,
   "metadata": {},
   "outputs": [],
   "source": [
    "data=data['#Passengers']\n",
    "data=np.array(data)"
   ]
  },
  {
   "cell_type": "code",
   "execution_count": 4,
   "metadata": {},
   "outputs": [
    {
     "data": {
      "text/plain": [
       "array([112, 118, 132, 129, 121, 135, 148, 148, 136, 119, 104, 118, 115,\n",
       "       126, 141, 135, 125, 149, 170, 170, 158, 133, 114, 140, 145, 150,\n",
       "       178, 163, 172, 178, 199, 199, 184, 162, 146, 166, 171, 180, 193,\n",
       "       181, 183, 218, 230, 242, 209, 191, 172, 194, 196, 196, 236, 235,\n",
       "       229, 243, 264, 272, 237, 211, 180, 201, 204, 188, 235, 227, 234,\n",
       "       264, 302, 293, 259, 229, 203, 229, 242, 233, 267, 269, 270, 315,\n",
       "       364, 347, 312, 274, 237, 278, 284, 277, 317, 313, 318, 374, 413,\n",
       "       405, 355, 306, 271, 306, 315, 301, 356, 348, 355, 422, 465, 467,\n",
       "       404, 347, 305, 336, 340, 318, 362, 348, 363, 435, 491, 505, 404,\n",
       "       359, 310, 337, 360, 342, 406, 396, 420, 472, 548, 559, 463, 407,\n",
       "       362, 405, 417, 391, 419, 461, 472, 535, 622, 606, 508, 461, 390,\n",
       "       432], dtype=int64)"
      ]
     },
     "execution_count": 4,
     "metadata": {},
     "output_type": "execute_result"
    }
   ],
   "source": [
    "data"
   ]
  },
  {
   "cell_type": "code",
   "execution_count": 5,
   "metadata": {},
   "outputs": [
    {
     "data": {
      "text/plain": [
       "array([[112],\n",
       "       [118],\n",
       "       [132],\n",
       "       [129],\n",
       "       [121],\n",
       "       [135],\n",
       "       [148],\n",
       "       [148],\n",
       "       [136],\n",
       "       [119],\n",
       "       [104],\n",
       "       [118],\n",
       "       [115],\n",
       "       [126],\n",
       "       [141],\n",
       "       [135],\n",
       "       [125],\n",
       "       [149],\n",
       "       [170],\n",
       "       [170],\n",
       "       [158],\n",
       "       [133],\n",
       "       [114],\n",
       "       [140],\n",
       "       [145],\n",
       "       [150],\n",
       "       [178],\n",
       "       [163],\n",
       "       [172],\n",
       "       [178],\n",
       "       [199],\n",
       "       [199],\n",
       "       [184],\n",
       "       [162],\n",
       "       [146],\n",
       "       [166],\n",
       "       [171],\n",
       "       [180],\n",
       "       [193],\n",
       "       [181],\n",
       "       [183],\n",
       "       [218],\n",
       "       [230],\n",
       "       [242],\n",
       "       [209],\n",
       "       [191],\n",
       "       [172],\n",
       "       [194],\n",
       "       [196],\n",
       "       [196],\n",
       "       [236],\n",
       "       [235],\n",
       "       [229],\n",
       "       [243],\n",
       "       [264],\n",
       "       [272],\n",
       "       [237],\n",
       "       [211],\n",
       "       [180],\n",
       "       [201],\n",
       "       [204],\n",
       "       [188],\n",
       "       [235],\n",
       "       [227],\n",
       "       [234],\n",
       "       [264],\n",
       "       [302],\n",
       "       [293],\n",
       "       [259],\n",
       "       [229],\n",
       "       [203],\n",
       "       [229],\n",
       "       [242],\n",
       "       [233],\n",
       "       [267],\n",
       "       [269],\n",
       "       [270],\n",
       "       [315],\n",
       "       [364],\n",
       "       [347],\n",
       "       [312],\n",
       "       [274],\n",
       "       [237],\n",
       "       [278],\n",
       "       [284],\n",
       "       [277],\n",
       "       [317],\n",
       "       [313],\n",
       "       [318],\n",
       "       [374],\n",
       "       [413],\n",
       "       [405],\n",
       "       [355],\n",
       "       [306],\n",
       "       [271],\n",
       "       [306],\n",
       "       [315],\n",
       "       [301],\n",
       "       [356],\n",
       "       [348],\n",
       "       [355],\n",
       "       [422],\n",
       "       [465],\n",
       "       [467],\n",
       "       [404],\n",
       "       [347],\n",
       "       [305],\n",
       "       [336],\n",
       "       [340],\n",
       "       [318],\n",
       "       [362],\n",
       "       [348],\n",
       "       [363],\n",
       "       [435],\n",
       "       [491],\n",
       "       [505],\n",
       "       [404],\n",
       "       [359],\n",
       "       [310],\n",
       "       [337],\n",
       "       [360],\n",
       "       [342],\n",
       "       [406],\n",
       "       [396],\n",
       "       [420],\n",
       "       [472],\n",
       "       [548],\n",
       "       [559],\n",
       "       [463],\n",
       "       [407],\n",
       "       [362],\n",
       "       [405],\n",
       "       [417],\n",
       "       [391],\n",
       "       [419],\n",
       "       [461],\n",
       "       [472],\n",
       "       [535],\n",
       "       [622],\n",
       "       [606],\n",
       "       [508],\n",
       "       [461],\n",
       "       [390],\n",
       "       [432]], dtype=int64)"
      ]
     },
     "execution_count": 5,
     "metadata": {},
     "output_type": "execute_result"
    }
   ],
   "source": [
    "data=data.reshape(-1,1)\n",
    "data"
   ]
  },
  {
   "cell_type": "code",
   "execution_count": 6,
   "metadata": {},
   "outputs": [
    {
     "data": {
      "text/plain": [
       "[<matplotlib.lines.Line2D at 0x290a490dfc8>]"
      ]
     },
     "execution_count": 6,
     "metadata": {},
     "output_type": "execute_result"
    },
    {
     "data": {
      "image/png": "[encoded data removed]",
      "text/plain": [
       "<Figure size 432x288 with 1 Axes>"
      ]
     },
     "metadata": {
      "needs_background": "light"
     },
     "output_type": "display_data"
    }
   ],
   "source": [
    "plt.plot(data)"
   ]
  },
  {
   "cell_type": "code",
   "execution_count": 7,
   "metadata": {},
   "outputs": [
    {
     "data": {
      "text/plain": [
       "array([[0.01544402],\n",
       "       [0.02702703],\n",
       "       [0.05405405],\n",
       "       [0.04826255],\n",
       "       [0.03281853],\n",
       "       [0.05984556],\n",
       "       [0.08494208],\n",
       "       [0.08494208],\n",
       "       [0.06177606],\n",
       "       [0.02895753],\n",
       "       [0.        ],\n",
       "       [0.02702703],\n",
       "       [0.02123552],\n",
       "       [0.04247104],\n",
       "       [0.07142857],\n",
       "       [0.05984556],\n",
       "       [0.04054054],\n",
       "       [0.08687259],\n",
       "       [0.12741313],\n",
       "       [0.12741313],\n",
       "       [0.1042471 ],\n",
       "       [0.05598456],\n",
       "       [0.01930502],\n",
       "       [0.06949807],\n",
       "       [0.07915058],\n",
       "       [0.08880309],\n",
       "       [0.14285714],\n",
       "       [0.11389961],\n",
       "       [0.13127413],\n",
       "       [0.14285714],\n",
       "       [0.18339768],\n",
       "       [0.18339768],\n",
       "       [0.15444015],\n",
       "       [0.11196911],\n",
       "       [0.08108108],\n",
       "       [0.11969112],\n",
       "       [0.12934363],\n",
       "       [0.14671815],\n",
       "       [0.17181467],\n",
       "       [0.14864865],\n",
       "       [0.15250965],\n",
       "       [0.22007722],\n",
       "       [0.24324324],\n",
       "       [0.26640927],\n",
       "       [0.2027027 ],\n",
       "       [0.16795367],\n",
       "       [0.13127413],\n",
       "       [0.17374517],\n",
       "       [0.17760618],\n",
       "       [0.17760618],\n",
       "       [0.25482625],\n",
       "       [0.25289575],\n",
       "       [0.24131274],\n",
       "       [0.26833977],\n",
       "       [0.30888031],\n",
       "       [0.32432432],\n",
       "       [0.25675676],\n",
       "       [0.20656371],\n",
       "       [0.14671815],\n",
       "       [0.18725869],\n",
       "       [0.19305019],\n",
       "       [0.16216216],\n",
       "       [0.25289575],\n",
       "       [0.23745174],\n",
       "       [0.25096525],\n",
       "       [0.30888031],\n",
       "       [0.38223938],\n",
       "       [0.36486486],\n",
       "       [0.2992278 ],\n",
       "       [0.24131274],\n",
       "       [0.19111969],\n",
       "       [0.24131274],\n",
       "       [0.26640927],\n",
       "       [0.24903475],\n",
       "       [0.31467181],\n",
       "       [0.31853282],\n",
       "       [0.32046332],\n",
       "       [0.40733591],\n",
       "       [0.5019305 ],\n",
       "       [0.46911197],\n",
       "       [0.4015444 ],\n",
       "       [0.32818533],\n",
       "       [0.25675676],\n",
       "       [0.33590734],\n",
       "       [0.34749035],\n",
       "       [0.33397683],\n",
       "       [0.41119691],\n",
       "       [0.4034749 ],\n",
       "       [0.41312741],\n",
       "       [0.52123552],\n",
       "       [0.5965251 ],\n",
       "       [0.58108108],\n",
       "       [0.48455598],\n",
       "       [0.38996139],\n",
       "       [0.32239382],\n",
       "       [0.38996139],\n",
       "       [0.40733591],\n",
       "       [0.38030888],\n",
       "       [0.48648649],\n",
       "       [0.47104247],\n",
       "       [0.48455598],\n",
       "       [0.61389961],\n",
       "       [0.6969112 ],\n",
       "       [0.7007722 ],\n",
       "       [0.57915058],\n",
       "       [0.46911197],\n",
       "       [0.38803089],\n",
       "       [0.44787645],\n",
       "       [0.45559846],\n",
       "       [0.41312741],\n",
       "       [0.4980695 ],\n",
       "       [0.47104247],\n",
       "       [0.5       ],\n",
       "       [0.63899614],\n",
       "       [0.74710425],\n",
       "       [0.77413127],\n",
       "       [0.57915058],\n",
       "       [0.49227799],\n",
       "       [0.3976834 ],\n",
       "       [0.44980695],\n",
       "       [0.49420849],\n",
       "       [0.45945946],\n",
       "       [0.58301158],\n",
       "       [0.56370656],\n",
       "       [0.61003861],\n",
       "       [0.71042471],\n",
       "       [0.85714286],\n",
       "       [0.87837838],\n",
       "       [0.69305019],\n",
       "       [0.58494208],\n",
       "       [0.4980695 ],\n",
       "       [0.58108108],\n",
       "       [0.6042471 ],\n",
       "       [0.55405405],\n",
       "       [0.60810811],\n",
       "       [0.68918919],\n",
       "       [0.71042471],\n",
       "       [0.83204633],\n",
       "       [1.        ],\n",
       "       [0.96911197],\n",
       "       [0.77992278],\n",
       "       [0.68918919],\n",
       "       [0.55212355],\n",
       "       [0.63320463]])"
      ]
     },
     "execution_count": 7,
     "metadata": {},
     "output_type": "execute_result"
    }
   ],
   "source": [
    "scaler= MinMaxScaler()\n",
    "data=scaler.fit_transform(data)\n",
    "data"
   ]
  },
  {
   "cell_type": "code",
   "execution_count": 8,
   "metadata": {},
   "outputs": [],
   "source": [
    "train_size=100\n",
    "test_size=44"
   ]
  },
  {
   "cell_type": "code",
   "execution_count": 9,
   "metadata": {},
   "outputs": [],
   "source": [
    "train=data[0:train_size,:]\n",
    "test=data[train_size:144,:]"
   ]
  },
  {
   "cell_type": "code",
   "execution_count": 10,
   "metadata": {},
   "outputs": [
    {
     "data": {
      "text/plain": [
       "((100, 1), (44, 1))"
      ]
     },
     "execution_count": 10,
     "metadata": {},
     "output_type": "execute_result"
    }
   ],
   "source": [
    "train.shape , test.shape"
   ]
  },
  {
   "cell_type": "markdown",
   "metadata": {},
   "source": [
    "### buile training and testing dataset : 직전 n개 데이터 반영"
   ]
  },
  {
   "cell_type": "code",
   "execution_count": 11,
   "metadata": {},
   "outputs": [],
   "source": [
    "def get_data(data,look_back):\n",
    "    dataX , dataY=[] ,[]\n",
    "\n",
    "    for i in range(len(data)-look_back-1):\n",
    "        a=data[i:i+look_back,0]\n",
    "        dataX.append(a)\n",
    "        dataY.append(data[i+look_back,0])\n",
    "    return np.array(dataX) ,np.array(dataY)"
   ]
  },
  {
   "cell_type": "code",
   "execution_count": 12,
   "metadata": {},
   "outputs": [],
   "source": [
    "look_back=2"
   ]
  },
  {
   "cell_type": "code",
   "execution_count": 13,
   "metadata": {},
   "outputs": [],
   "source": [
    "x_train,y_train=get_data(train,look_back)"
   ]
  },
  {
   "cell_type": "code",
   "execution_count": 14,
   "metadata": {},
   "outputs": [
    {
     "data": {
      "text/plain": [
       "((97, 2), (97,))"
      ]
     },
     "execution_count": 14,
     "metadata": {},
     "output_type": "execute_result"
    }
   ],
   "source": [
    "x_train.shape, y_train.shape"
   ]
  },
  {
   "cell_type": "code",
   "execution_count": 15,
   "metadata": {},
   "outputs": [
    {
     "data": {
      "text/plain": [
       "array([[0.01544402, 0.02702703],\n",
       "       [0.02702703, 0.05405405],\n",
       "       [0.05405405, 0.04826255],\n",
       "       [0.04826255, 0.03281853],\n",
       "       [0.03281853, 0.05984556],\n",
       "       [0.05984556, 0.08494208],\n",
       "       [0.08494208, 0.08494208],\n",
       "       [0.08494208, 0.06177606],\n",
       "       [0.06177606, 0.02895753],\n",
       "       [0.02895753, 0.        ],\n",
       "       [0.        , 0.02702703],\n",
       "       [0.02702703, 0.02123552],\n",
       "       [0.02123552, 0.04247104],\n",
       "       [0.04247104, 0.07142857],\n",
       "       [0.07142857, 0.05984556],\n",
       "       [0.05984556, 0.04054054],\n",
       "       [0.04054054, 0.08687259],\n",
       "       [0.08687259, 0.12741313],\n",
       "       [0.12741313, 0.12741313],\n",
       "       [0.12741313, 0.1042471 ],\n",
       "       [0.1042471 , 0.05598456],\n",
       "       [0.05598456, 0.01930502],\n",
       "       [0.01930502, 0.06949807],\n",
       "       [0.06949807, 0.07915058],\n",
       "       [0.07915058, 0.08880309],\n",
       "       [0.08880309, 0.14285714],\n",
       "       [0.14285714, 0.11389961],\n",
       "       [0.11389961, 0.13127413],\n",
       "       [0.13127413, 0.14285714],\n",
       "       [0.14285714, 0.18339768],\n",
       "       [0.18339768, 0.18339768],\n",
       "       [0.18339768, 0.15444015],\n",
       "       [0.15444015, 0.11196911],\n",
       "       [0.11196911, 0.08108108],\n",
       "       [0.08108108, 0.11969112],\n",
       "       [0.11969112, 0.12934363],\n",
       "       [0.12934363, 0.14671815],\n",
       "       [0.14671815, 0.17181467],\n",
       "       [0.17181467, 0.14864865],\n",
       "       [0.14864865, 0.15250965],\n",
       "       [0.15250965, 0.22007722],\n",
       "       [0.22007722, 0.24324324],\n",
       "       [0.24324324, 0.26640927],\n",
       "       [0.26640927, 0.2027027 ],\n",
       "       [0.2027027 , 0.16795367],\n",
       "       [0.16795367, 0.13127413],\n",
       "       [0.13127413, 0.17374517],\n",
       "       [0.17374517, 0.17760618],\n",
       "       [0.17760618, 0.17760618],\n",
       "       [0.17760618, 0.25482625],\n",
       "       [0.25482625, 0.25289575],\n",
       "       [0.25289575, 0.24131274],\n",
       "       [0.24131274, 0.26833977],\n",
       "       [0.26833977, 0.30888031],\n",
       "       [0.30888031, 0.32432432],\n",
       "       [0.32432432, 0.25675676],\n",
       "       [0.25675676, 0.20656371],\n",
       "       [0.20656371, 0.14671815],\n",
       "       [0.14671815, 0.18725869],\n",
       "       [0.18725869, 0.19305019],\n",
       "       [0.19305019, 0.16216216],\n",
       "       [0.16216216, 0.25289575],\n",
       "       [0.25289575, 0.23745174],\n",
       "       [0.23745174, 0.25096525],\n",
       "       [0.25096525, 0.30888031],\n",
       "       [0.30888031, 0.38223938],\n",
       "       [0.38223938, 0.36486486],\n",
       "       [0.36486486, 0.2992278 ],\n",
       "       [0.2992278 , 0.24131274],\n",
       "       [0.24131274, 0.19111969],\n",
       "       [0.19111969, 0.24131274],\n",
       "       [0.24131274, 0.26640927],\n",
       "       [0.26640927, 0.24903475],\n",
       "       [0.24903475, 0.31467181],\n",
       "       [0.31467181, 0.31853282],\n",
       "       [0.31853282, 0.32046332],\n",
       "       [0.32046332, 0.40733591],\n",
       "       [0.40733591, 0.5019305 ],\n",
       "       [0.5019305 , 0.46911197],\n",
       "       [0.46911197, 0.4015444 ],\n",
       "       [0.4015444 , 0.32818533],\n",
       "       [0.32818533, 0.25675676],\n",
       "       [0.25675676, 0.33590734],\n",
       "       [0.33590734, 0.34749035],\n",
       "       [0.34749035, 0.33397683],\n",
       "       [0.33397683, 0.41119691],\n",
       "       [0.41119691, 0.4034749 ],\n",
       "       [0.4034749 , 0.41312741],\n",
       "       [0.41312741, 0.52123552],\n",
       "       [0.52123552, 0.5965251 ],\n",
       "       [0.5965251 , 0.58108108],\n",
       "       [0.58108108, 0.48455598],\n",
       "       [0.48455598, 0.38996139],\n",
       "       [0.38996139, 0.32239382],\n",
       "       [0.32239382, 0.38996139],\n",
       "       [0.38996139, 0.40733591],\n",
       "       [0.40733591, 0.38030888]])"
      ]
     },
     "execution_count": 15,
     "metadata": {},
     "output_type": "execute_result"
    }
   ],
   "source": [
    "x_train"
   ]
  },
  {
   "cell_type": "code",
   "execution_count": 16,
   "metadata": {},
   "outputs": [
    {
     "data": {
      "text/plain": [
       "array([0.05405405, 0.04826255, 0.03281853, 0.05984556, 0.08494208,\n",
       "       0.08494208, 0.06177606, 0.02895753, 0.        , 0.02702703,\n",
       "       0.02123552, 0.04247104, 0.07142857, 0.05984556, 0.04054054,\n",
       "       0.08687259, 0.12741313, 0.12741313, 0.1042471 , 0.05598456,\n",
       "       0.01930502, 0.06949807, 0.07915058, 0.08880309, 0.14285714,\n",
       "       0.11389961, 0.13127413, 0.14285714, 0.18339768, 0.18339768,\n",
       "       0.15444015, 0.11196911, 0.08108108, 0.11969112, 0.12934363,\n",
       "       0.14671815, 0.17181467, 0.14864865, 0.15250965, 0.22007722,\n",
       "       0.24324324, 0.26640927, 0.2027027 , 0.16795367, 0.13127413,\n",
       "       0.17374517, 0.17760618, 0.17760618, 0.25482625, 0.25289575,\n",
       "       0.24131274, 0.26833977, 0.30888031, 0.32432432, 0.25675676,\n",
       "       0.20656371, 0.14671815, 0.18725869, 0.19305019, 0.16216216,\n",
       "       0.25289575, 0.23745174, 0.25096525, 0.30888031, 0.38223938,\n",
       "       0.36486486, 0.2992278 , 0.24131274, 0.19111969, 0.24131274,\n",
       "       0.26640927, 0.24903475, 0.31467181, 0.31853282, 0.32046332,\n",
       "       0.40733591, 0.5019305 , 0.46911197, 0.4015444 , 0.32818533,\n",
       "       0.25675676, 0.33590734, 0.34749035, 0.33397683, 0.41119691,\n",
       "       0.4034749 , 0.41312741, 0.52123552, 0.5965251 , 0.58108108,\n",
       "       0.48455598, 0.38996139, 0.32239382, 0.38996139, 0.40733591,\n",
       "       0.38030888, 0.48648649])"
      ]
     },
     "execution_count": 16,
     "metadata": {},
     "output_type": "execute_result"
    }
   ],
   "source": [
    "y_train"
   ]
  },
  {
   "cell_type": "code",
   "execution_count": 17,
   "metadata": {},
   "outputs": [],
   "source": [
    "x_test,y_test=get_data(test,look_back)"
   ]
  },
  {
   "cell_type": "code",
   "execution_count": 18,
   "metadata": {},
   "outputs": [
    {
     "data": {
      "text/plain": [
       "((41, 2), (41,))"
      ]
     },
     "execution_count": 18,
     "metadata": {},
     "output_type": "execute_result"
    }
   ],
   "source": [
    "x_test.shape, y_test.shape"
   ]
  },
  {
   "cell_type": "code",
   "execution_count": 36,
   "metadata": {},
   "outputs": [
    {
     "data": {
      "text/plain": [
       "array([[[0.48455598],\n",
       "        [0.61389961]],\n",
       "\n",
       "       [[0.61389961],\n",
       "        [0.6969112 ]],\n",
       "\n",
       "       [[0.6969112 ],\n",
       "        [0.7007722 ]],\n",
       "\n",
       "       [[0.7007722 ],\n",
       "        [0.57915058]],\n",
       "\n",
       "       [[0.57915058],\n",
       "        [0.46911197]],\n",
       "\n",
       "       [[0.46911197],\n",
       "        [0.38803089]],\n",
       "\n",
       "       [[0.38803089],\n",
       "        [0.44787645]],\n",
       "\n",
       "       [[0.44787645],\n",
       "        [0.45559846]],\n",
       "\n",
       "       [[0.45559846],\n",
       "        [0.41312741]],\n",
       "\n",
       "       [[0.41312741],\n",
       "        [0.4980695 ]],\n",
       "\n",
       "       [[0.4980695 ],\n",
       "        [0.47104247]],\n",
       "\n",
       "       [[0.47104247],\n",
       "        [0.5       ]],\n",
       "\n",
       "       [[0.5       ],\n",
       "        [0.63899614]],\n",
       "\n",
       "       [[0.63899614],\n",
       "        [0.74710425]],\n",
       "\n",
       "       [[0.74710425],\n",
       "        [0.77413127]],\n",
       "\n",
       "       [[0.77413127],\n",
       "        [0.57915058]],\n",
       "\n",
       "       [[0.57915058],\n",
       "        [0.49227799]],\n",
       "\n",
       "       [[0.49227799],\n",
       "        [0.3976834 ]],\n",
       "\n",
       "       [[0.3976834 ],\n",
       "        [0.44980695]],\n",
       "\n",
       "       [[0.44980695],\n",
       "        [0.49420849]],\n",
       "\n",
       "       [[0.49420849],\n",
       "        [0.45945946]],\n",
       "\n",
       "       [[0.45945946],\n",
       "        [0.58301158]],\n",
       "\n",
       "       [[0.58301158],\n",
       "        [0.56370656]],\n",
       "\n",
       "       [[0.56370656],\n",
       "        [0.61003861]],\n",
       "\n",
       "       [[0.61003861],\n",
       "        [0.71042471]],\n",
       "\n",
       "       [[0.71042471],\n",
       "        [0.85714286]],\n",
       "\n",
       "       [[0.85714286],\n",
       "        [0.87837838]],\n",
       "\n",
       "       [[0.87837838],\n",
       "        [0.69305019]],\n",
       "\n",
       "       [[0.69305019],\n",
       "        [0.58494208]],\n",
       "\n",
       "       [[0.58494208],\n",
       "        [0.4980695 ]],\n",
       "\n",
       "       [[0.4980695 ],\n",
       "        [0.58108108]],\n",
       "\n",
       "       [[0.58108108],\n",
       "        [0.6042471 ]],\n",
       "\n",
       "       [[0.6042471 ],\n",
       "        [0.55405405]],\n",
       "\n",
       "       [[0.55405405],\n",
       "        [0.60810811]],\n",
       "\n",
       "       [[0.60810811],\n",
       "        [0.68918919]],\n",
       "\n",
       "       [[0.68918919],\n",
       "        [0.71042471]],\n",
       "\n",
       "       [[0.71042471],\n",
       "        [0.83204633]],\n",
       "\n",
       "       [[0.83204633],\n",
       "        [1.        ]],\n",
       "\n",
       "       [[1.        ],\n",
       "        [0.96911197]],\n",
       "\n",
       "       [[0.96911197],\n",
       "        [0.77992278]],\n",
       "\n",
       "       [[0.77992278],\n",
       "        [0.68918919]]])"
      ]
     },
     "execution_count": 36,
     "metadata": {},
     "output_type": "execute_result"
    }
   ],
   "source": [
    "x_test"
   ]
  },
  {
   "cell_type": "code",
   "execution_count": 19,
   "metadata": {},
   "outputs": [],
   "source": [
    "x_train=x_train.reshape(x_train.shape[0],x_train.shape[1],1)\n",
    "x_test=x_test.reshape(x_test.shape[0],x_test.shape[1],1)"
   ]
  },
  {
   "cell_type": "code",
   "execution_count": 20,
   "metadata": {},
   "outputs": [
    {
     "data": {
      "text/plain": [
       "((97, 2, 1), (41, 2, 1))"
      ]
     },
     "execution_count": 20,
     "metadata": {},
     "output_type": "execute_result"
    }
   ],
   "source": [
    "x_train.shape, x_test.shape"
   ]
  },
  {
   "cell_type": "markdown",
   "metadata": {},
   "source": [
    "### build LSTM model"
   ]
  },
  {
   "cell_type": "code",
   "execution_count": 21,
   "metadata": {},
   "outputs": [],
   "source": [
    "model=Sequential()\n",
    "model.add(LSTM(5,input_shape=(2,1)))\n",
    "model.add(Dense(1))"
   ]
  },
  {
   "cell_type": "code",
   "execution_count": 22,
   "metadata": {},
   "outputs": [],
   "source": [
    "model.compile(optimizer='adam', loss='mean_squared_error')"
   ]
  },
  {
   "cell_type": "code",
   "execution_count": 23,
   "metadata": {},
   "outputs": [
    {
     "name": "stdout",
     "output_type": "stream",
     "text": [
      "Model: \"sequential\"\n",
      "_________________________________________________________________\n",
      "Layer (type)                 Output Shape              Param #   \n",
      "=================================================================\n",
      "lstm (LSTM)                  (None, 5)                 140       \n",
      "_________________________________________________________________\n",
      "dense (Dense)                (None, 1)                 6         \n",
      "=================================================================\n",
      "Total params: 146\n",
      "Trainable params: 146\n",
      "Non-trainable params: 0\n",
      "_________________________________________________________________\n"
     ]
    }
   ],
   "source": [
    "model.summary()"
   ]
  },
  {
   "cell_type": "code",
   "execution_count": 24,
   "metadata": {},
   "outputs": [
    {
     "name": "stdout",
     "output_type": "stream",
     "text": [
      "Train on 97 samples\n",
      "Epoch 1/50\n",
      "97/97 [==============================] - 2s 25ms/sample - loss: 0.0427\n",
      "Epoch 2/50\n",
      "97/97 [==============================] - 0s 2ms/sample - loss: 0.0179\n",
      "Epoch 3/50\n",
      "97/97 [==============================] - 0s 2ms/sample - loss: 0.0146\n",
      "Epoch 4/50\n",
      "97/97 [==============================] - 0s 2ms/sample - loss: 0.0132\n",
      "Epoch 5/50\n",
      "97/97 [==============================] - 0s 2ms/sample - loss: 0.0115\n",
      "Epoch 6/50\n",
      "97/97 [==============================] - 0s 2ms/sample - loss: 0.0100\n",
      "Epoch 7/50\n",
      "97/97 [==============================] - 0s 2ms/sample - loss: 0.0088\n",
      "Epoch 8/50\n",
      "97/97 [==============================] - 0s 2ms/sample - loss: 0.0076\n",
      "Epoch 9/50\n",
      "97/97 [==============================] - 0s 2ms/sample - loss: 0.0063\n",
      "Epoch 10/50\n",
      "97/97 [==============================] - 0s 2ms/sample - loss: 0.0052\n",
      "Epoch 11/50\n",
      "97/97 [==============================] - 0s 2ms/sample - loss: 0.0045\n",
      "Epoch 12/50\n",
      "97/97 [==============================] - 0s 2ms/sample - loss: 0.0040\n",
      "Epoch 13/50\n",
      "97/97 [==============================] - 0s 2ms/sample - loss: 0.0039\n",
      "Epoch 14/50\n",
      "97/97 [==============================] - 0s 2ms/sample - loss: 0.0035\n",
      "Epoch 15/50\n",
      "97/97 [==============================] - 0s 2ms/sample - loss: 0.0036\n",
      "Epoch 16/50\n",
      "97/97 [==============================] - 0s 2ms/sample - loss: 0.0036\n",
      "Epoch 17/50\n",
      "97/97 [==============================] - 0s 2ms/sample - loss: 0.0034\n",
      "Epoch 18/50\n",
      "97/97 [==============================] - 0s 2ms/sample - loss: 0.0034\n",
      "Epoch 19/50\n",
      "97/97 [==============================] - 0s 2ms/sample - loss: 0.0034\n",
      "Epoch 20/50\n",
      "97/97 [==============================] - 0s 2ms/sample - loss: 0.0033\n",
      "Epoch 21/50\n",
      "97/97 [==============================] - 0s 2ms/sample - loss: 0.0034\n",
      "Epoch 22/50\n",
      "97/97 [==============================] - 0s 2ms/sample - loss: 0.0035\n",
      "Epoch 23/50\n",
      "97/97 [==============================] - 0s 2ms/sample - loss: 0.0034\n",
      "Epoch 24/50\n",
      "97/97 [==============================] - 0s 2ms/sample - loss: 0.0035\n",
      "Epoch 25/50\n",
      "97/97 [==============================] - 0s 2ms/sample - loss: 0.0034\n",
      "Epoch 26/50\n",
      "97/97 [==============================] - 0s 2ms/sample - loss: 0.0034\n",
      "Epoch 27/50\n",
      "97/97 [==============================] - 0s 2ms/sample - loss: 0.0033\n",
      "Epoch 28/50\n",
      "97/97 [==============================] - 0s 3ms/sample - loss: 0.0033\n",
      "Epoch 29/50\n",
      "97/97 [==============================] - 0s 2ms/sample - loss: 0.0035\n",
      "Epoch 30/50\n",
      "97/97 [==============================] - 0s 2ms/sample - loss: 0.0034\n",
      "Epoch 31/50\n",
      "97/97 [==============================] - 0s 2ms/sample - loss: 0.0033\n",
      "Epoch 32/50\n",
      "97/97 [==============================] - 0s 2ms/sample - loss: 0.0033\n",
      "Epoch 33/50\n",
      "97/97 [==============================] - 0s 2ms/sample - loss: 0.0032\n",
      "Epoch 34/50\n",
      "97/97 [==============================] - 0s 2ms/sample - loss: 0.0033\n",
      "Epoch 35/50\n",
      "97/97 [==============================] - 0s 2ms/sample - loss: 0.0033\n",
      "Epoch 36/50\n",
      "97/97 [==============================] - 0s 2ms/sample - loss: 0.0033\n",
      "Epoch 37/50\n",
      "97/97 [==============================] - 0s 2ms/sample - loss: 0.0033\n",
      "Epoch 38/50\n",
      "97/97 [==============================] - 0s 2ms/sample - loss: 0.0033\n",
      "Epoch 39/50\n",
      "97/97 [==============================] - 0s 2ms/sample - loss: 0.0033\n",
      "Epoch 40/50\n",
      "97/97 [==============================] - 0s 2ms/sample - loss: 0.0032\n",
      "Epoch 41/50\n",
      "97/97 [==============================] - 0s 2ms/sample - loss: 0.0032\n",
      "Epoch 42/50\n",
      "97/97 [==============================] - 0s 2ms/sample - loss: 0.0031\n",
      "Epoch 43/50\n",
      "97/97 [==============================] - 0s 2ms/sample - loss: 0.0032\n",
      "Epoch 44/50\n",
      "97/97 [==============================] - 0s 2ms/sample - loss: 0.0032\n",
      "Epoch 45/50\n",
      "97/97 [==============================] - 0s 2ms/sample - loss: 0.0032\n",
      "Epoch 46/50\n",
      "97/97 [==============================] - 0s 2ms/sample - loss: 0.0032\n",
      "Epoch 47/50\n",
      "97/97 [==============================] - 0s 2ms/sample - loss: 0.0031\n",
      "Epoch 48/50\n",
      "97/97 [==============================] - 0s 2ms/sample - loss: 0.0032\n",
      "Epoch 49/50\n",
      "97/97 [==============================] - 0s 2ms/sample - loss: 0.0032\n",
      "Epoch 50/50\n",
      "97/97 [==============================] - 0s 2ms/sample - loss: 0.0030\n"
     ]
    }
   ],
   "source": [
    "history=model.fit(x_train,y_train,epochs=50,batch_size=1)"
   ]
  },
  {
   "cell_type": "code",
   "execution_count": 25,
   "metadata": {},
   "outputs": [],
   "source": [
    "y_pred=model.predict(x_test)"
   ]
  },
  {
   "cell_type": "code",
   "execution_count": 26,
   "metadata": {},
   "outputs": [],
   "source": [
    "y_pred=scaler.inverse_transform(y_pred)"
   ]
  },
  {
   "cell_type": "code",
   "execution_count": 34,
   "metadata": {},
   "outputs": [],
   "source": [
    "y_test1=np.array(y_test)\n",
    "y_test2=y_test1.reshape(-1,1)\n",
    "y_test3=scaler.inverse_transform(y_test2)"
   ]
  },
  {
   "cell_type": "code",
   "execution_count": 28,
   "metadata": {},
   "outputs": [
    {
     "data": {
      "text/plain": [
       "array([[376.06656],\n",
       "       [427.72552],\n",
       "       [447.3604 ],\n",
       "       [416.66684],\n",
       "       [359.8174 ],\n",
       "       [312.63803],\n",
       "       [309.31992],\n",
       "       [325.43127],\n",
       "       [316.04532],\n",
       "       [328.5223 ],\n",
       "       [341.32153],\n",
       "       [342.64023],\n",
       "       [386.32068],\n",
       "       [446.42862],\n",
       "       [477.14606],\n",
       "       [433.08093],\n",
       "       [365.9196 ],\n",
       "       [320.62842],\n",
       "       [312.0969 ],\n",
       "       [336.1144 ],\n",
       "       [337.3526 ],\n",
       "       [361.9931 ],\n",
       "       [385.65387],\n",
       "       [393.41373],\n",
       "       [430.37833],\n",
       "       [490.23206],\n",
       "       [526.2256 ],\n",
       "       [484.6025 ],\n",
       "       [416.43033],\n",
       "       [368.79535],\n",
       "       [370.49805],\n",
       "       [395.89737],\n",
       "       [388.02264],\n",
       "       [390.6717 ],\n",
       "       [424.39392],\n",
       "       [448.137  ],\n",
       "       [483.8962 ],\n",
       "       [550.5996 ],\n",
       "       [575.76373],\n",
       "       [524.61676],\n",
       "       [462.62085]], dtype=float32)"
      ]
     },
     "execution_count": 28,
     "metadata": {},
     "output_type": "execute_result"
    }
   ],
   "source": [
    "y_pred"
   ]
  },
  {
   "cell_type": "code",
   "execution_count": 35,
   "metadata": {},
   "outputs": [
    {
     "data": {
      "text/plain": [
       "array([[465.],\n",
       "       [467.],\n",
       "       [404.],\n",
       "       [347.],\n",
       "       [305.],\n",
       "       [336.],\n",
       "       [340.],\n",
       "       [318.],\n",
       "       [362.],\n",
       "       [348.],\n",
       "       [363.],\n",
       "       [435.],\n",
       "       [491.],\n",
       "       [505.],\n",
       "       [404.],\n",
       "       [359.],\n",
       "       [310.],\n",
       "       [337.],\n",
       "       [360.],\n",
       "       [342.],\n",
       "       [406.],\n",
       "       [396.],\n",
       "       [420.],\n",
       "       [472.],\n",
       "       [548.],\n",
       "       [559.],\n",
       "       [463.],\n",
       "       [407.],\n",
       "       [362.],\n",
       "       [405.],\n",
       "       [417.],\n",
       "       [391.],\n",
       "       [419.],\n",
       "       [461.],\n",
       "       [472.],\n",
       "       [535.],\n",
       "       [622.],\n",
       "       [606.],\n",
       "       [508.],\n",
       "       [461.],\n",
       "       [390.]])"
      ]
     },
     "execution_count": 35,
     "metadata": {},
     "output_type": "execute_result"
    }
   ],
   "source": [
    "y_test3"
   ]
  },
  {
   "cell_type": "code",
   "execution_count": 31,
   "metadata": {},
   "outputs": [
    {
     "data": {
      "image/png": "[encoded data removed]",
      "text/plain": [
       "<Figure size 1008x360 with 1 Axes>"
      ]
     },
     "metadata": {
      "needs_background": "light"
     },
     "output_type": "display_data"
    }
   ],
   "source": [
    "plt.figure(figsize=(14,5))\n",
    "plt.plot(y_test3,color='red',label='real number of passengers')\n",
    "plt.plot(y_pred,color='blue',label='predicted number of passengers')\n",
    "plt.ylabel('#passengers')\n",
    "plt.legend()\n",
    "plt.show()"
   ]
  },
  {
   "cell_type": "code",
   "execution_count": null,
   "metadata": {},
   "outputs": [],
   "source": []
  }
 ],
 "metadata": {
  "kernelspec": {
   "display_name": "Python 3",
   "language": "python",
   "name": "python3"
  },
  "language_info": {
   "codemirror_mode": {
    "name": "ipython",
    "version": 3
   },
   "file_extension": ".py",
   "mimetype": "text/x-python",
   "name": "python",
   "nbconvert_exporter": "python",
   "pygments_lexer": "ipython3",
   "version": "3.7.9"
  }
 },
 "nbformat": 4,
 "nbformat_minor": 4
}
