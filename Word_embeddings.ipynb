{
 "cells": [
  {
   "cell_type": "markdown",
   "metadata": {},
   "source": [
    "# Word2Vec\n",
    ": 단어 임베딩을 학습하기 위한 패키지\n",
    "##### References:\n",
    "Word2Vec 참고자료: https://radimrehurek.com/gensim/models/word2vec.html\n",
    "<br>\n",
    "딥러닝을 위한 자연어처리 입문: https://wikidocs.net/book/2155\n",
    "<br>\n",
    "Stanford cs224n 자료: http://web.stanford.edu/class/cs224n/"
   ]
  },
  {
   "cell_type": "markdown",
   "metadata": {},
   "source": [
    "## Pretrained word embeddings\n",
    ": 사전에 학습된 단어 임베딩을 살펴 봅시다!"
   ]
  },
  {
   "cell_type": "code",
   "execution_count": 1,
   "metadata": {},
   "outputs": [],
   "source": [
    "import numpy as np\n",
    "\n",
    "%matplotlib notebook\n",
    "import matplotlib.pyplot as plt\n",
    "#plt.style.use('ggplot')\n",
    "\n",
    "from sklearn.decomposition import PCA\n",
    "\n",
    "from gensim.test.utils import datapath, get_tmpfile\n",
    "from gensim.models import KeyedVectors\n",
    "from gensim.scripts.glove2word2vec import glove2word2vec\n",
    "\n",
    "import warnings\n",
    "warnings.simplefilter(action='ignore', category=FutureWarning)"
   ]
  },
  {
   "cell_type": "code",
   "execution_count": 3,
   "metadata": {},
   "outputs": [
    {
     "data": {
      "text/plain": [
       "(400000, 100)"
      ]
     },
     "execution_count": 3,
     "metadata": {},
     "output_type": "execute_result"
    }
   ],
   "source": [
    "# 사전에 학습된 단어 임베딩을 불러옵니다\n",
    "# 해당 데이터는 \"GloVe\"로 스탠포드 대학에서 독자적으로 학습한 단어 임베딩입니다\n",
    "# 이를 Word2Vec 패키지에서 사용할 수 있게 변환 후 사용합니다\n",
    "\n",
    "glove_file = datapath('C:\\\\Users\\\\gram\\\\Desktop\\\\와이빅타\\\\21-1 DA\\\\신입 교육\\\\glove.6B.100d.txt')  # 해당 파일의 위치를 직접 입력해 주세요\n",
    "word2vec_glove_file = get_tmpfile(\"glove.6B.100d.word2vec.txt\")\n",
    "glove2word2vec(glove_file, word2vec_glove_file)"
   ]
  },
  {
   "cell_type": "code",
   "execution_count": 4,
   "metadata": {},
   "outputs": [],
   "source": [
    "# 모델을 불러옵니다\n",
    "model = KeyedVectors.load_word2vec_format(word2vec_glove_file)"
   ]
  },
  {
   "cell_type": "code",
   "execution_count": 5,
   "metadata": {},
   "outputs": [
    {
     "data": {
      "text/plain": [
       "array([-0.34028  ,  0.46436  , -0.083324 ,  0.20186  , -0.17831  ,\n",
       "       -0.4663   ,  0.61793  ,  0.30129  ,  0.5728   , -0.34783  ,\n",
       "       -0.9216   ,  0.30484  ,  0.30382  ,  0.58035  ,  0.12112  ,\n",
       "        0.77288  ,  1.1547   , -0.576    ,  0.51471  ,  0.21552  ,\n",
       "        0.21106  ,  0.67875  ,  1.1962   ,  0.11142  ,  0.50809  ,\n",
       "        1.1873   ,  0.035288 , -0.88952  ,  0.042803 , -0.36714  ,\n",
       "        0.37993  ,  0.61945  ,  1.0194   , -0.95084  , -0.0072258,\n",
       "        0.69454  ,  0.38692  , -0.18544  ,  0.2885   , -0.81279  ,\n",
       "       -0.46473  , -0.82623  ,  0.42778  , -0.14064  ,  0.30173  ,\n",
       "        0.074418 , -0.40044  ,  0.33969  , -0.62917  , -0.054449 ,\n",
       "       -0.78469  ,  0.2354   , -0.78359  ,  0.74708  , -0.31074  ,\n",
       "       -0.07038  , -0.34623  ,  0.33849  ,  0.89621  ,  0.30288  ,\n",
       "        0.012978 ,  0.020869 , -0.14436  , -0.40914  ,  0.16651  ,\n",
       "       -0.88124  , -0.078419 ,  0.048156 ,  0.27032  , -0.81761  ,\n",
       "        0.027778 ,  0.62487  ,  0.1549   , -0.15838  ,  0.088675 ,\n",
       "        0.063411 , -0.14473  , -0.0066816, -0.18535  ,  1.5642   ,\n",
       "        0.3726   , -0.81706  , -0.021685 ,  0.91209  , -0.35784  ,\n",
       "       -0.98389  , -0.37103  , -0.10909  ,  0.18898  , -0.33884  ,\n",
       "       -0.058326 ,  0.41438  , -1.0411   , -0.42643  , -0.50664  ,\n",
       "       -0.75863  , -0.15815  , -0.1831   ,  0.7343   , -0.26852  ],\n",
       "      dtype=float32)"
      ]
     },
     "execution_count": 5,
     "metadata": {},
     "output_type": "execute_result"
    }
   ],
   "source": [
    "# 특정 단어 임베딩의 형태\n",
    "model['banana']"
   ]
  },
  {
   "cell_type": "code",
   "execution_count": 6,
   "metadata": {},
   "outputs": [
    {
     "data": {
      "text/plain": [
       "[('coconut', 0.7097253799438477),\n",
       " ('mango', 0.7054824233055115),\n",
       " ('bananas', 0.6887733340263367),\n",
       " ('potato', 0.6629636287689209),\n",
       " ('pineapple', 0.6534532308578491),\n",
       " ('fruit', 0.6519854664802551),\n",
       " ('peanut', 0.6420576572418213),\n",
       " ('pecan', 0.6349173188209534),\n",
       " ('cashew', 0.629442036151886),\n",
       " ('papaya', 0.6246591210365295)]"
      ]
     },
     "execution_count": 6,
     "metadata": {},
     "output_type": "execute_result"
    }
   ],
   "source": [
    "# 의미상 가장 가까운 단어\n",
    "model.most_similar('banana')"
   ]
  },
  {
   "cell_type": "code",
   "execution_count": 7,
   "metadata": {},
   "outputs": [
    {
     "data": {
      "text/plain": [
       "[('barack', 0.937216579914093),\n",
       " ('bush', 0.9272854328155518),\n",
       " ('clinton', 0.8960003852844238),\n",
       " ('mccain', 0.8875634074211121),\n",
       " ('gore', 0.8000321388244629),\n",
       " ('hillary', 0.7933663129806519),\n",
       " ('dole', 0.7851964235305786),\n",
       " ('rodham', 0.7518897652626038),\n",
       " ('romney', 0.7488930225372314),\n",
       " ('kerry', 0.7472623586654663)]"
      ]
     },
     "execution_count": 7,
     "metadata": {},
     "output_type": "execute_result"
    }
   ],
   "source": [
    "model.most_similar('obama')"
   ]
  },
  {
   "cell_type": "code",
   "execution_count": 8,
   "metadata": {},
   "outputs": [
    {
     "data": {
      "text/plain": [
       "[('woman', 0.832349419593811),\n",
       " ('boy', 0.7914870977401733),\n",
       " ('one', 0.7788748741149902),\n",
       " ('person', 0.7526816129684448),\n",
       " ('another', 0.752223551273346),\n",
       " ('old', 0.7409117221832275),\n",
       " ('life', 0.7371696829795837),\n",
       " ('father', 0.7370322942733765),\n",
       " ('turned', 0.7347694635391235),\n",
       " ('who', 0.7345511317253113)]"
      ]
     },
     "execution_count": 8,
     "metadata": {},
     "output_type": "execute_result"
    }
   ],
   "source": [
    "model.most_similar('man')"
   ]
  },
  {
   "cell_type": "code",
   "execution_count": 9,
   "metadata": {},
   "outputs": [
    {
     "name": "stdout",
     "output_type": "stream",
     "text": [
      "queen: 0.7699\n"
     ]
    }
   ],
   "source": [
    "# 단어 연산 예시\n",
    "result = model.most_similar(positive=['woman', 'king'], negative=['man'])\n",
    "print(\"{}: {:.4f}\".format(*result[0]))"
   ]
  },
  {
   "cell_type": "code",
   "execution_count": 10,
   "metadata": {},
   "outputs": [
    {
     "name": "stdout",
     "output_type": "stream",
     "text": [
      "france: 0.8746\n"
     ]
    }
   ],
   "source": [
    "result = model.most_similar(positive=['korea', 'paris'], negative=['seoul'])\n",
    "print(\"{}: {:.4f}\".format(*result[0]))"
   ]
  },
  {
   "cell_type": "code",
   "execution_count": 11,
   "metadata": {},
   "outputs": [],
   "source": [
    "# 단어간 비유를 해보자\n",
    "def analogy(x1, x2, y1):\n",
    "    result = model.most_similar(positive=[y1, x2], negative=[x1])\n",
    "    return result[0][0]"
   ]
  },
  {
   "cell_type": "code",
   "execution_count": 12,
   "metadata": {},
   "outputs": [
    {
     "data": {
      "text/plain": [
       "'australian'"
      ]
     },
     "execution_count": 12,
     "metadata": {},
     "output_type": "execute_result"
    }
   ],
   "source": [
    "analogy('korea', 'korean', 'australia')"
   ]
  },
  {
   "cell_type": "code",
   "execution_count": 13,
   "metadata": {},
   "outputs": [
    {
     "data": {
      "text/plain": [
       "'wine'"
      ]
     },
     "execution_count": 13,
     "metadata": {},
     "output_type": "execute_result"
    }
   ],
   "source": [
    "analogy('germany', 'beer', 'france')"
   ]
  },
  {
   "cell_type": "code",
   "execution_count": 14,
   "metadata": {},
   "outputs": [
    {
     "data": {
      "text/plain": [
       "'longest'"
      ]
     },
     "execution_count": 14,
     "metadata": {},
     "output_type": "execute_result"
    }
   ],
   "source": [
    "analogy('tall', 'tallest', 'long')"
   ]
  },
  {
   "cell_type": "code",
   "execution_count": 15,
   "metadata": {},
   "outputs": [
    {
     "data": {
      "text/plain": [
       "'terrible'"
      ]
     },
     "execution_count": 15,
     "metadata": {},
     "output_type": "execute_result"
    }
   ],
   "source": [
    "analogy('good', 'fantastic', 'bad')"
   ]
  },
  {
   "cell_type": "code",
   "execution_count": 16,
   "metadata": {},
   "outputs": [
    {
     "name": "stdout",
     "output_type": "stream",
     "text": [
      "cereal\n"
     ]
    }
   ],
   "source": [
    "# 가장 어울리지 않는 단어 색출\n",
    "print(model.doesnt_match(\"breakfast cereal dinner lunch\".split()))"
   ]
  },
  {
   "cell_type": "code",
   "execution_count": 17,
   "metadata": {},
   "outputs": [],
   "source": [
    "def display_pca_scatterplot(model, words=None, sample=0):\n",
    "    if words == None:\n",
    "        if sample > 0:\n",
    "            words = np.random.choice(list(model.vocab.keys()), sample)\n",
    "        else:\n",
    "            words = [ word for word in model.vocab ]\n",
    "        \n",
    "    word_vectors = np.array([model[w] for w in words])\n",
    "\n",
    "    twodim = PCA().fit_transform(word_vectors)[:,:2]\n",
    "    \n",
    "    plt.figure(figsize=(6,6))\n",
    "    plt.scatter(twodim[:,0], twodim[:,1], edgecolors='k', c='r')\n",
    "    for word, (x,y) in zip(words, twodim):\n",
    "        plt.text(x+0.05, y+0.05, word)"
   ]
  },
  {
   "cell_type": "code",
   "execution_count": 18,
   "metadata": {},
   "outputs": [
    {
     "data": {
      "application/javascript": [
       "/* Put everything inside the global mpl namespace */\n",
       "window.mpl = {};\n",
       "\n",
       "\n",
       "mpl.get_websocket_type = function() {\n",
       "    if (typeof(WebSocket) !== 'undefined') {\n",
       "        return WebSocket;\n",
       "    } else if (typeof(MozWebSocket) !== 'undefined') {\n",
       "        return MozWebSocket;\n",
       "    } else {\n",
       "        alert('Your browser does not have WebSocket support. ' +\n",
       "              'Please try Chrome, Safari or Firefox ≥ 6. ' +\n",
       "              'Firefox 4 and 5 are also supported but you ' +\n",
       "              'have to enable WebSockets in about:config.');\n",
       "    };\n",
       "}\n",
       "\n",
       "mpl.figure = function(figure_id, websocket, ondownload, parent_element) {\n",
       "    this.id = figure_id;\n",
       "\n",
       "    this.ws = websocket;\n",
       "\n",
       "    this.supports_binary = (this.ws.binaryType != undefined);\n",
       "\n",
       "    if (!this.supports_binary) {\n",
       "        var warnings = document.getElementById(\"mpl-warnings\");\n",
       "        if (warnings) {\n",
       "            warnings.style.display = 'block';\n",
       "            warnings.textContent = (\n",
       "                \"This browser does not support binary websocket messages. \" +\n",
       "                    \"Performance may be slow.\");\n",
       "        }\n",
       "    }\n",
       "\n",
       "    this.imageObj = new Image();\n",
       "\n",
       "    this.context = undefined;\n",
       "    this.message = undefined;\n",
       "    this.canvas = undefined;\n",
       "    this.rubberband_canvas = undefined;\n",
       "    this.rubberband_context = undefined;\n",
       "    this.format_dropdown = undefined;\n",
       "\n",
       "    this.image_mode = 'full';\n",
       "\n",
       "    this.root = $('<div/>');\n",
       "    this._root_extra_style(this.root)\n",
       "    this.root.attr('style', 'display: inline-block');\n",
       "\n",
       "    $(parent_element).append(this.root);\n",
       "\n",
       "    this._init_header(this);\n",
       "    this._init_canvas(this);\n",
       "    this._init_toolbar(this);\n",
       "\n",
       "    var fig = this;\n",
       "\n",
       "    this.waiting = false;\n",
       "\n",
       "    this.ws.onopen =  function () {\n",
       "            fig.send_message(\"supports_binary\", {value: fig.supports_binary});\n",
       "            fig.send_message(\"send_image_mode\", {});\n",
       "            if (mpl.ratio != 1) {\n",
       "                fig.send_message(\"set_dpi_ratio\", {'dpi_ratio': mpl.ratio});\n",
       "            }\n",
       "            fig.send_message(\"refresh\", {});\n",
       "        }\n",
       "\n",
       "    this.imageObj.onload = function() {\n",
       "            if (fig.image_mode == 'full') {\n",
       "                // Full images could contain transparency (where diff images\n",
       "                // almost always do), so we need to clear the canvas so that\n",
       "                // there is no ghosting.\n",
       "                fig.context.clearRect(0, 0, fig.canvas.width, fig.canvas.height);\n",
       "            }\n",
       "            fig.context.drawImage(fig.imageObj, 0, 0);\n",
       "        };\n",
       "\n",
       "    this.imageObj.onunload = function() {\n",
       "        fig.ws.close();\n",
       "    }\n",
       "\n",
       "    this.ws.onmessage = this._make_on_message_function(this);\n",
       "\n",
       "    this.ondownload = ondownload;\n",
       "}\n",
       "\n",
       "mpl.figure.prototype._init_header = function() {\n",
       "    var titlebar = $(\n",
       "        '<div class=\"ui-dialog-titlebar ui-widget-header ui-corner-all ' +\n",
       "        'ui-helper-clearfix\"/>');\n",
       "    var titletext = $(\n",
       "        '<div class=\"ui-dialog-title\" style=\"width: 100%; ' +\n",
       "        'text-align: center; padding: 3px;\"/>');\n",
       "    titlebar.append(titletext)\n",
       "    this.root.append(titlebar);\n",
       "    this.header = titletext[0];\n",
       "}\n",
       "\n",
       "\n",
       "\n",
       "mpl.figure.prototype._canvas_extra_style = function(canvas_div) {\n",
       "\n",
       "}\n",
       "\n",
       "\n",
       "mpl.figure.prototype._root_extra_style = function(canvas_div) {\n",
       "\n",
       "}\n",
       "\n",
       "mpl.figure.prototype._init_canvas = function() {\n",
       "    var fig = this;\n",
       "\n",
       "    var canvas_div = $('<div/>');\n",
       "\n",
       "    canvas_div.attr('style', 'position: relative; clear: both; outline: 0');\n",
       "\n",
       "    function canvas_keyboard_event(event) {\n",
       "        return fig.key_event(event, event['data']);\n",
       "    }\n",
       "\n",
       "    canvas_div.keydown('key_press', canvas_keyboard_event);\n",
       "    canvas_div.keyup('key_release', canvas_keyboard_event);\n",
       "    this.canvas_div = canvas_div\n",
       "    this._canvas_extra_style(canvas_div)\n",
       "    this.root.append(canvas_div);\n",
       "\n",
       "    var canvas = $('<canvas/>');\n",
       "    canvas.addClass('mpl-canvas');\n",
       "    canvas.attr('style', \"left: 0; top: 0; z-index: 0; outline: 0\")\n",
       "\n",
       "    this.canvas = canvas[0];\n",
       "    this.context = canvas[0].getContext(\"2d\");\n",
       "\n",
       "    var backingStore = this.context.backingStorePixelRatio ||\n",
       "\tthis.context.webkitBackingStorePixelRatio ||\n",
       "\tthis.context.mozBackingStorePixelRatio ||\n",
       "\tthis.context.msBackingStorePixelRatio ||\n",
       "\tthis.context.oBackingStorePixelRatio ||\n",
       "\tthis.context.backingStorePixelRatio || 1;\n",
       "\n",
       "    mpl.ratio = (window.devicePixelRatio || 1) / backingStore;\n",
       "\n",
       "    var rubberband = $('<canvas/>');\n",
       "    rubberband.attr('style', \"position: absolute; left: 0; top: 0; z-index: 1;\")\n",
       "\n",
       "    var pass_mouse_events = true;\n",
       "\n",
       "    canvas_div.resizable({\n",
       "        start: function(event, ui) {\n",
       "            pass_mouse_events = false;\n",
       "        },\n",
       "        resize: function(event, ui) {\n",
       "            fig.request_resize(ui.size.width, ui.size.height);\n",
       "        },\n",
       "        stop: function(event, ui) {\n",
       "            pass_mouse_events = true;\n",
       "            fig.request_resize(ui.size.width, ui.size.height);\n",
       "        },\n",
       "    });\n",
       "\n",
       "    function mouse_event_fn(event) {\n",
       "        if (pass_mouse_events)\n",
       "            return fig.mouse_event(event, event['data']);\n",
       "    }\n",
       "\n",
       "    rubberband.mousedown('button_press', mouse_event_fn);\n",
       "    rubberband.mouseup('button_release', mouse_event_fn);\n",
       "    // Throttle sequential mouse events to 1 every 20ms.\n",
       "    rubberband.mousemove('motion_notify', mouse_event_fn);\n",
       "\n",
       "    rubberband.mouseenter('figure_enter', mouse_event_fn);\n",
       "    rubberband.mouseleave('figure_leave', mouse_event_fn);\n",
       "\n",
       "    canvas_div.on(\"wheel\", function (event) {\n",
       "        event = event.originalEvent;\n",
       "        event['data'] = 'scroll'\n",
       "        if (event.deltaY < 0) {\n",
       "            event.step = 1;\n",
       "        } else {\n",
       "            event.step = -1;\n",
       "        }\n",
       "        mouse_event_fn(event);\n",
       "    });\n",
       "\n",
       "    canvas_div.append(canvas);\n",
       "    canvas_div.append(rubberband);\n",
       "\n",
       "    this.rubberband = rubberband;\n",
       "    this.rubberband_canvas = rubberband[0];\n",
       "    this.rubberband_context = rubberband[0].getContext(\"2d\");\n",
       "    this.rubberband_context.strokeStyle = \"#000000\";\n",
       "\n",
       "    this._resize_canvas = function(width, height) {\n",
       "        // Keep the size of the canvas, canvas container, and rubber band\n",
       "        // canvas in synch.\n",
       "        canvas_div.css('width', width)\n",
       "        canvas_div.css('height', height)\n",
       "\n",
       "        canvas.attr('width', width * mpl.ratio);\n",
       "        canvas.attr('height', height * mpl.ratio);\n",
       "        canvas.attr('style', 'width: ' + width + 'px; height: ' + height + 'px;');\n",
       "\n",
       "        rubberband.attr('width', width);\n",
       "        rubberband.attr('height', height);\n",
       "    }\n",
       "\n",
       "    // Set the figure to an initial 600x600px, this will subsequently be updated\n",
       "    // upon first draw.\n",
       "    this._resize_canvas(600, 600);\n",
       "\n",
       "    // Disable right mouse context menu.\n",
       "    $(this.rubberband_canvas).bind(\"contextmenu\",function(e){\n",
       "        return false;\n",
       "    });\n",
       "\n",
       "    function set_focus () {\n",
       "        canvas.focus();\n",
       "        canvas_div.focus();\n",
       "    }\n",
       "\n",
       "    window.setTimeout(set_focus, 100);\n",
       "}\n",
       "\n",
       "mpl.figure.prototype._init_toolbar = function() {\n",
       "    var fig = this;\n",
       "\n",
       "    var nav_element = $('<div/>');\n",
       "    nav_element.attr('style', 'width: 100%');\n",
       "    this.root.append(nav_element);\n",
       "\n",
       "    // Define a callback function for later on.\n",
       "    function toolbar_event(event) {\n",
       "        return fig.toolbar_button_onclick(event['data']);\n",
       "    }\n",
       "    function toolbar_mouse_event(event) {\n",
       "        return fig.toolbar_button_onmouseover(event['data']);\n",
       "    }\n",
       "\n",
       "    for(var toolbar_ind in mpl.toolbar_items) {\n",
       "        var name = mpl.toolbar_items[toolbar_ind][0];\n",
       "        var tooltip = mpl.toolbar_items[toolbar_ind][1];\n",
       "        var image = mpl.toolbar_items[toolbar_ind][2];\n",
       "        var method_name = mpl.toolbar_items[toolbar_ind][3];\n",
       "\n",
       "        if (!name) {\n",
       "            // put a spacer in here.\n",
       "            continue;\n",
       "        }\n",
       "        var button = $('<button/>');\n",
       "        button.addClass('ui-button ui-widget ui-state-default ui-corner-all ' +\n",
       "                        'ui-button-icon-only');\n",
       "        button.attr('role', 'button');\n",
       "        button.attr('aria-disabled', 'false');\n",
       "        button.click(method_name, toolbar_event);\n",
       "        button.mouseover(tooltip, toolbar_mouse_event);\n",
       "\n",
       "        var icon_img = $('<span/>');\n",
       "        icon_img.addClass('ui-button-icon-primary ui-icon');\n",
       "        icon_img.addClass(image);\n",
       "        icon_img.addClass('ui-corner-all');\n",
       "\n",
       "        var tooltip_span = $('<span/>');\n",
       "        tooltip_span.addClass('ui-button-text');\n",
       "        tooltip_span.html(tooltip);\n",
       "\n",
       "        button.append(icon_img);\n",
       "        button.append(tooltip_span);\n",
       "\n",
       "        nav_element.append(button);\n",
       "    }\n",
       "\n",
       "    var fmt_picker_span = $('<span/>');\n",
       "\n",
       "    var fmt_picker = $('<select/>');\n",
       "    fmt_picker.addClass('mpl-toolbar-option ui-widget ui-widget-content');\n",
       "    fmt_picker_span.append(fmt_picker);\n",
       "    nav_element.append(fmt_picker_span);\n",
       "    this.format_dropdown = fmt_picker[0];\n",
       "\n",
       "    for (var ind in mpl.extensions) {\n",
       "        var fmt = mpl.extensions[ind];\n",
       "        var option = $(\n",
       "            '<option/>', {selected: fmt === mpl.default_extension}).html(fmt);\n",
       "        fmt_picker.append(option);\n",
       "    }\n",
       "\n",
       "    // Add hover states to the ui-buttons\n",
       "    $( \".ui-button\" ).hover(\n",
       "        function() { $(this).addClass(\"ui-state-hover\");},\n",
       "        function() { $(this).removeClass(\"ui-state-hover\");}\n",
       "    );\n",
       "\n",
       "    var status_bar = $('<span class=\"mpl-message\"/>');\n",
       "    nav_element.append(status_bar);\n",
       "    this.message = status_bar[0];\n",
       "}\n",
       "\n",
       "mpl.figure.prototype.request_resize = function(x_pixels, y_pixels) {\n",
       "    // Request matplotlib to resize the figure. Matplotlib will then trigger a resize in the client,\n",
       "    // which will in turn request a refresh of the image.\n",
       "    this.send_message('resize', {'width': x_pixels, 'height': y_pixels});\n",
       "}\n",
       "\n",
       "mpl.figure.prototype.send_message = function(type, properties) {\n",
       "    properties['type'] = type;\n",
       "    properties['figure_id'] = this.id;\n",
       "    this.ws.send(JSON.stringify(properties));\n",
       "}\n",
       "\n",
       "mpl.figure.prototype.send_draw_message = function() {\n",
       "    if (!this.waiting) {\n",
       "        this.waiting = true;\n",
       "        this.ws.send(JSON.stringify({type: \"draw\", figure_id: this.id}));\n",
       "    }\n",
       "}\n",
       "\n",
       "\n",
       "mpl.figure.prototype.handle_save = function(fig, msg) {\n",
       "    var format_dropdown = fig.format_dropdown;\n",
       "    var format = format_dropdown.options[format_dropdown.selectedIndex].value;\n",
       "    fig.ondownload(fig, format);\n",
       "}\n",
       "\n",
       "\n",
       "mpl.figure.prototype.handle_resize = function(fig, msg) {\n",
       "    var size = msg['size'];\n",
       "    if (size[0] != fig.canvas.width || size[1] != fig.canvas.height) {\n",
       "        fig._resize_canvas(size[0], size[1]);\n",
       "        fig.send_message(\"refresh\", {});\n",
       "    };\n",
       "}\n",
       "\n",
       "mpl.figure.prototype.handle_rubberband = function(fig, msg) {\n",
       "    var x0 = msg['x0'] / mpl.ratio;\n",
       "    var y0 = (fig.canvas.height - msg['y0']) / mpl.ratio;\n",
       "    var x1 = msg['x1'] / mpl.ratio;\n",
       "    var y1 = (fig.canvas.height - msg['y1']) / mpl.ratio;\n",
       "    x0 = Math.floor(x0) + 0.5;\n",
       "    y0 = Math.floor(y0) + 0.5;\n",
       "    x1 = Math.floor(x1) + 0.5;\n",
       "    y1 = Math.floor(y1) + 0.5;\n",
       "    var min_x = Math.min(x0, x1);\n",
       "    var min_y = Math.min(y0, y1);\n",
       "    var width = Math.abs(x1 - x0);\n",
       "    var height = Math.abs(y1 - y0);\n",
       "\n",
       "    fig.rubberband_context.clearRect(\n",
       "        0, 0, fig.canvas.width / mpl.ratio, fig.canvas.height / mpl.ratio);\n",
       "\n",
       "    fig.rubberband_context.strokeRect(min_x, min_y, width, height);\n",
       "}\n",
       "\n",
       "mpl.figure.prototype.handle_figure_label = function(fig, msg) {\n",
       "    // Updates the figure title.\n",
       "    fig.header.textContent = msg['label'];\n",
       "}\n",
       "\n",
       "mpl.figure.prototype.handle_cursor = function(fig, msg) {\n",
       "    var cursor = msg['cursor'];\n",
       "    switch(cursor)\n",
       "    {\n",
       "    case 0:\n",
       "        cursor = 'pointer';\n",
       "        break;\n",
       "    case 1:\n",
       "        cursor = 'default';\n",
       "        break;\n",
       "    case 2:\n",
       "        cursor = 'crosshair';\n",
       "        break;\n",
       "    case 3:\n",
       "        cursor = 'move';\n",
       "        break;\n",
       "    }\n",
       "    fig.rubberband_canvas.style.cursor = cursor;\n",
       "}\n",
       "\n",
       "mpl.figure.prototype.handle_message = function(fig, msg) {\n",
       "    fig.message.textContent = msg['message'];\n",
       "}\n",
       "\n",
       "mpl.figure.prototype.handle_draw = function(fig, msg) {\n",
       "    // Request the server to send over a new figure.\n",
       "    fig.send_draw_message();\n",
       "}\n",
       "\n",
       "mpl.figure.prototype.handle_image_mode = function(fig, msg) {\n",
       "    fig.image_mode = msg['mode'];\n",
       "}\n",
       "\n",
       "mpl.figure.prototype.updated_canvas_event = function() {\n",
       "    // Called whenever the canvas gets updated.\n",
       "    this.send_message(\"ack\", {});\n",
       "}\n",
       "\n",
       "// A function to construct a web socket function for onmessage handling.\n",
       "// Called in the figure constructor.\n",
       "mpl.figure.prototype._make_on_message_function = function(fig) {\n",
       "    return function socket_on_message(evt) {\n",
       "        if (evt.data instanceof Blob) {\n",
       "            /* FIXME: We get \"Resource interpreted as Image but\n",
       "             * transferred with MIME type text/plain:\" errors on\n",
       "             * Chrome.  But how to set the MIME type?  It doesn't seem\n",
       "             * to be part of the websocket stream */\n",
       "            evt.data.type = \"image/png\";\n",
       "\n",
       "            /* Free the memory for the previous frames */\n",
       "            if (fig.imageObj.src) {\n",
       "                (window.URL || window.webkitURL).revokeObjectURL(\n",
       "                    fig.imageObj.src);\n",
       "            }\n",
       "\n",
       "            fig.imageObj.src = (window.URL || window.webkitURL).createObjectURL(\n",
       "                evt.data);\n",
       "            fig.updated_canvas_event();\n",
       "            fig.waiting = false;\n",
       "            return;\n",
       "        }\n",
       "        else if (typeof evt.data === 'string' && evt.data.slice(0, 21) == \"data:image/png;base64\") {\n",
       "            fig.imageObj.src = evt.data;\n",
       "            fig.updated_canvas_event();\n",
       "            fig.waiting = false;\n",
       "            return;\n",
       "        }\n",
       "\n",
       "        var msg = JSON.parse(evt.data);\n",
       "        var msg_type = msg['type'];\n",
       "\n",
       "        // Call the  \"handle_{type}\" callback, which takes\n",
       "        // the figure and JSON message as its only arguments.\n",
       "        try {\n",
       "            var callback = fig[\"handle_\" + msg_type];\n",
       "        } catch (e) {\n",
       "            console.log(\"No handler for the '\" + msg_type + \"' message type: \", msg);\n",
       "            return;\n",
       "        }\n",
       "\n",
       "        if (callback) {\n",
       "            try {\n",
       "                // console.log(\"Handling '\" + msg_type + \"' message: \", msg);\n",
       "                callback(fig, msg);\n",
       "            } catch (e) {\n",
       "                console.log(\"Exception inside the 'handler_\" + msg_type + \"' callback:\", e, e.stack, msg);\n",
       "            }\n",
       "        }\n",
       "    };\n",
       "}\n",
       "\n",
       "// from http://stackoverflow.com/questions/1114465/getting-mouse-location-in-canvas\n",
       "mpl.findpos = function(e) {\n",
       "    //this section is from http://www.quirksmode.org/js/events_properties.html\n",
       "    var targ;\n",
       "    if (!e)\n",
       "        e = window.event;\n",
       "    if (e.target)\n",
       "        targ = e.target;\n",
       "    else if (e.srcElement)\n",
       "        targ = e.srcElement;\n",
       "    if (targ.nodeType == 3) // defeat Safari bug\n",
       "        targ = targ.parentNode;\n",
       "\n",
       "    // jQuery normalizes the pageX and pageY\n",
       "    // pageX,Y are the mouse positions relative to the document\n",
       "    // offset() returns the position of the element relative to the document\n",
       "    var x = e.pageX - $(targ).offset().left;\n",
       "    var y = e.pageY - $(targ).offset().top;\n",
       "\n",
       "    return {\"x\": x, \"y\": y};\n",
       "};\n",
       "\n",
       "/*\n",
       " * return a copy of an object with only non-object keys\n",
       " * we need this to avoid circular references\n",
       " * http://stackoverflow.com/a/24161582/3208463\n",
       " */\n",
       "function simpleKeys (original) {\n",
       "  return Object.keys(original).reduce(function (obj, key) {\n",
       "    if (typeof original[key] !== 'object')\n",
       "        obj[key] = original[key]\n",
       "    return obj;\n",
       "  }, {});\n",
       "}\n",
       "\n",
       "mpl.figure.prototype.mouse_event = function(event, name) {\n",
       "    var canvas_pos = mpl.findpos(event)\n",
       "\n",
       "    if (name === 'button_press')\n",
       "    {\n",
       "        this.canvas.focus();\n",
       "        this.canvas_div.focus();\n",
       "    }\n",
       "\n",
       "    var x = canvas_pos.x * mpl.ratio;\n",
       "    var y = canvas_pos.y * mpl.ratio;\n",
       "\n",
       "    this.send_message(name, {x: x, y: y, button: event.button,\n",
       "                             step: event.step,\n",
       "                             guiEvent: simpleKeys(event)});\n",
       "\n",
       "    /* This prevents the web browser from automatically changing to\n",
       "     * the text insertion cursor when the button is pressed.  We want\n",
       "     * to control all of the cursor setting manually through the\n",
       "     * 'cursor' event from matplotlib */\n",
       "    event.preventDefault();\n",
       "    return false;\n",
       "}\n",
       "\n",
       "mpl.figure.prototype._key_event_extra = function(event, name) {\n",
       "    // Handle any extra behaviour associated with a key event\n",
       "}\n",
       "\n",
       "mpl.figure.prototype.key_event = function(event, name) {\n",
       "\n",
       "    // Prevent repeat events\n",
       "    if (name == 'key_press')\n",
       "    {\n",
       "        if (event.which === this._key)\n",
       "            return;\n",
       "        else\n",
       "            this._key = event.which;\n",
       "    }\n",
       "    if (name == 'key_release')\n",
       "        this._key = null;\n",
       "\n",
       "    var value = '';\n",
       "    if (event.ctrlKey && event.which != 17)\n",
       "        value += \"ctrl+\";\n",
       "    if (event.altKey && event.which != 18)\n",
       "        value += \"alt+\";\n",
       "    if (event.shiftKey && event.which != 16)\n",
       "        value += \"shift+\";\n",
       "\n",
       "    value += 'k';\n",
       "    value += event.which.toString();\n",
       "\n",
       "    this._key_event_extra(event, name);\n",
       "\n",
       "    this.send_message(name, {key: value,\n",
       "                             guiEvent: simpleKeys(event)});\n",
       "    return false;\n",
       "}\n",
       "\n",
       "mpl.figure.prototype.toolbar_button_onclick = function(name) {\n",
       "    if (name == 'download') {\n",
       "        this.handle_save(this, null);\n",
       "    } else {\n",
       "        this.send_message(\"toolbar_button\", {name: name});\n",
       "    }\n",
       "};\n",
       "\n",
       "mpl.figure.prototype.toolbar_button_onmouseover = function(tooltip) {\n",
       "    this.message.textContent = tooltip;\n",
       "};\n",
       "mpl.toolbar_items = [[\"Home\", \"Reset original view\", \"fa fa-home icon-home\", \"home\"], [\"Back\", \"Back to previous view\", \"fa fa-arrow-left icon-arrow-left\", \"back\"], [\"Forward\", \"Forward to next view\", \"fa fa-arrow-right icon-arrow-right\", \"forward\"], [\"\", \"\", \"\", \"\"], [\"Pan\", \"Pan axes with left mouse, zoom with right\", \"fa fa-arrows icon-move\", \"pan\"], [\"Zoom\", \"Zoom to rectangle\", \"fa fa-square-o icon-check-empty\", \"zoom\"], [\"\", \"\", \"\", \"\"], [\"Download\", \"Download plot\", \"fa fa-floppy-o icon-save\", \"download\"]];\n",
       "\n",
       "mpl.extensions = [\"eps\", \"jpeg\", \"pdf\", \"png\", \"ps\", \"raw\", \"svg\", \"tif\"];\n",
       "\n",
       "mpl.default_extension = \"png\";var comm_websocket_adapter = function(comm) {\n",
       "    // Create a \"websocket\"-like object which calls the given IPython comm\n",
       "    // object with the appropriate methods. Currently this is a non binary\n",
       "    // socket, so there is still some room for performance tuning.\n",
       "    var ws = {};\n",
       "\n",
       "    ws.close = function() {\n",
       "        comm.close()\n",
       "    };\n",
       "    ws.send = function(m) {\n",
       "        //console.log('sending', m);\n",
       "        comm.send(m);\n",
       "    };\n",
       "    // Register the callback with on_msg.\n",
       "    comm.on_msg(function(msg) {\n",
       "        //console.log('receiving', msg['content']['data'], msg);\n",
       "        // Pass the mpl event to the overridden (by mpl) onmessage function.\n",
       "        ws.onmessage(msg['content']['data'])\n",
       "    });\n",
       "    return ws;\n",
       "}\n",
       "\n",
       "mpl.mpl_figure_comm = function(comm, msg) {\n",
       "    // This is the function which gets called when the mpl process\n",
       "    // starts-up an IPython Comm through the \"matplotlib\" channel.\n",
       "\n",
       "    var id = msg.content.data.id;\n",
       "    // Get hold of the div created by the display call when the Comm\n",
       "    // socket was opened in Python.\n",
       "    var element = $(\"#\" + id);\n",
       "    var ws_proxy = comm_websocket_adapter(comm)\n",
       "\n",
       "    function ondownload(figure, format) {\n",
       "        window.open(figure.imageObj.src);\n",
       "    }\n",
       "\n",
       "    var fig = new mpl.figure(id, ws_proxy,\n",
       "                           ondownload,\n",
       "                           element.get(0));\n",
       "\n",
       "    // Call onopen now - mpl needs it, as it is assuming we've passed it a real\n",
       "    // web socket which is closed, not our websocket->open comm proxy.\n",
       "    ws_proxy.onopen();\n",
       "\n",
       "    fig.parent_element = element.get(0);\n",
       "    fig.cell_info = mpl.find_output_cell(\"<div id='\" + id + \"'></div>\");\n",
       "    if (!fig.cell_info) {\n",
       "        console.error(\"Failed to find cell for figure\", id, fig);\n",
       "        return;\n",
       "    }\n",
       "\n",
       "    var output_index = fig.cell_info[2]\n",
       "    var cell = fig.cell_info[0];\n",
       "\n",
       "};\n",
       "\n",
       "mpl.figure.prototype.handle_close = function(fig, msg) {\n",
       "    var width = fig.canvas.width/mpl.ratio\n",
       "    fig.root.unbind('remove')\n",
       "\n",
       "    // Update the output cell to use the data from the current canvas.\n",
       "    fig.push_to_output();\n",
       "    var dataURL = fig.canvas.toDataURL();\n",
       "    // Re-enable the keyboard manager in IPython - without this line, in FF,\n",
       "    // the notebook keyboard shortcuts fail.\n",
       "    IPython.keyboard_manager.enable()\n",
       "    $(fig.parent_element).html('<img src=\"' + dataURL + '\" width=\"' + width + '\">');\n",
       "    fig.close_ws(fig, msg);\n",
       "}\n",
       "\n",
       "mpl.figure.prototype.close_ws = function(fig, msg){\n",
       "    fig.send_message('closing', msg);\n",
       "    // fig.ws.close()\n",
       "}\n",
       "\n",
       "mpl.figure.prototype.push_to_output = function(remove_interactive) {\n",
       "    // Turn the data on the canvas into data in the output cell.\n",
       "    var width = this.canvas.width/mpl.ratio\n",
       "    var dataURL = this.canvas.toDataURL();\n",
       "    this.cell_info[1]['text/html'] = '<img src=\"' + dataURL + '\" width=\"' + width + '\">';\n",
       "}\n",
       "\n",
       "mpl.figure.prototype.updated_canvas_event = function() {\n",
       "    // Tell IPython that the notebook contents must change.\n",
       "    IPython.notebook.set_dirty(true);\n",
       "    this.send_message(\"ack\", {});\n",
       "    var fig = this;\n",
       "    // Wait a second, then push the new image to the DOM so\n",
       "    // that it is saved nicely (might be nice to debounce this).\n",
       "    setTimeout(function () { fig.push_to_output() }, 1000);\n",
       "}\n",
       "\n",
       "mpl.figure.prototype._init_toolbar = function() {\n",
       "    var fig = this;\n",
       "\n",
       "    var nav_element = $('<div/>');\n",
       "    nav_element.attr('style', 'width: 100%');\n",
       "    this.root.append(nav_element);\n",
       "\n",
       "    // Define a callback function for later on.\n",
       "    function toolbar_event(event) {\n",
       "        return fig.toolbar_button_onclick(event['data']);\n",
       "    }\n",
       "    function toolbar_mouse_event(event) {\n",
       "        return fig.toolbar_button_onmouseover(event['data']);\n",
       "    }\n",
       "\n",
       "    for(var toolbar_ind in mpl.toolbar_items){\n",
       "        var name = mpl.toolbar_items[toolbar_ind][0];\n",
       "        var tooltip = mpl.toolbar_items[toolbar_ind][1];\n",
       "        var image = mpl.toolbar_items[toolbar_ind][2];\n",
       "        var method_name = mpl.toolbar_items[toolbar_ind][3];\n",
       "\n",
       "        if (!name) { continue; };\n",
       "\n",
       "        var button = $('<button class=\"btn btn-default\" href=\"#\" title=\"' + name + '\"><i class=\"fa ' + image + ' fa-lg\"></i></button>');\n",
       "        button.click(method_name, toolbar_event);\n",
       "        button.mouseover(tooltip, toolbar_mouse_event);\n",
       "        nav_element.append(button);\n",
       "    }\n",
       "\n",
       "    // Add the status bar.\n",
       "    var status_bar = $('<span class=\"mpl-message\" style=\"text-align:right; float: right;\"/>');\n",
       "    nav_element.append(status_bar);\n",
       "    this.message = status_bar[0];\n",
       "\n",
       "    // Add the close button to the window.\n",
       "    var buttongrp = $('<div class=\"btn-group inline pull-right\"></div>');\n",
       "    var button = $('<button class=\"btn btn-mini btn-primary\" href=\"#\" title=\"Stop Interaction\"><i class=\"fa fa-power-off icon-remove icon-large\"></i></button>');\n",
       "    button.click(function (evt) { fig.handle_close(fig, {}); } );\n",
       "    button.mouseover('Stop Interaction', toolbar_mouse_event);\n",
       "    buttongrp.append(button);\n",
       "    var titlebar = this.root.find($('.ui-dialog-titlebar'));\n",
       "    titlebar.prepend(buttongrp);\n",
       "}\n",
       "\n",
       "mpl.figure.prototype._root_extra_style = function(el){\n",
       "    var fig = this\n",
       "    el.on(\"remove\", function(){\n",
       "\tfig.close_ws(fig, {});\n",
       "    });\n",
       "}\n",
       "\n",
       "mpl.figure.prototype._canvas_extra_style = function(el){\n",
       "    // this is important to make the div 'focusable\n",
       "    el.attr('tabindex', 0)\n",
       "    // reach out to IPython and tell the keyboard manager to turn it's self\n",
       "    // off when our div gets focus\n",
       "\n",
       "    // location in version 3\n",
       "    if (IPython.notebook.keyboard_manager) {\n",
       "        IPython.notebook.keyboard_manager.register_events(el);\n",
       "    }\n",
       "    else {\n",
       "        // location in version 2\n",
       "        IPython.keyboard_manager.register_events(el);\n",
       "    }\n",
       "\n",
       "}\n",
       "\n",
       "mpl.figure.prototype._key_event_extra = function(event, name) {\n",
       "    var manager = IPython.notebook.keyboard_manager;\n",
       "    if (!manager)\n",
       "        manager = IPython.keyboard_manager;\n",
       "\n",
       "    // Check for shift+enter\n",
       "    if (event.shiftKey && event.which == 13) {\n",
       "        this.canvas_div.blur();\n",
       "        // select the cell after this one\n",
       "        var index = IPython.notebook.find_cell_index(this.cell_info[0]);\n",
       "        IPython.notebook.select(index + 1);\n",
       "    }\n",
       "}\n",
       "\n",
       "mpl.figure.prototype.handle_save = function(fig, msg) {\n",
       "    fig.ondownload(fig, null);\n",
       "}\n",
       "\n",
       "\n",
       "mpl.find_output_cell = function(html_output) {\n",
       "    // Return the cell and output element which can be found *uniquely* in the notebook.\n",
       "    // Note - this is a bit hacky, but it is done because the \"notebook_saving.Notebook\"\n",
       "    // IPython event is triggered only after the cells have been serialised, which for\n",
       "    // our purposes (turning an active figure into a static one), is too late.\n",
       "    var cells = IPython.notebook.get_cells();\n",
       "    var ncells = cells.length;\n",
       "    for (var i=0; i<ncells; i++) {\n",
       "        var cell = cells[i];\n",
       "        if (cell.cell_type === 'code'){\n",
       "            for (var j=0; j<cell.output_area.outputs.length; j++) {\n",
       "                var data = cell.output_area.outputs[j];\n",
       "                if (data.data) {\n",
       "                    // IPython >= 3 moved mimebundle to data attribute of output\n",
       "                    data = data.data;\n",
       "                }\n",
       "                if (data['text/html'] == html_output) {\n",
       "                    return [cell, data, j];\n",
       "                }\n",
       "            }\n",
       "        }\n",
       "    }\n",
       "}\n",
       "\n",
       "// Register the function which deals with the matplotlib target/channel.\n",
       "// The kernel may be null if the page has been refreshed.\n",
       "if (IPython.notebook.kernel != null) {\n",
       "    IPython.notebook.kernel.comm_manager.register_target('matplotlib', mpl.mpl_figure_comm);\n",
       "}\n"
      ],
      "text/plain": [
       "<IPython.core.display.Javascript object>"
      ]
     },
     "metadata": {},
     "output_type": "display_data"
    },
    {
     "data": {
      "text/html": [
       "<img src=\"data:image/png;base64,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\" width=\"600\">"
      ],
      "text/plain": [
       "<IPython.core.display.HTML object>"
      ]
     },
     "metadata": {},
     "output_type": "display_data"
    }
   ],
   "source": [
    "# 단어 임베딩 시각화\n",
    "display_pca_scatterplot(model, \n",
    "                        ['coffee', 'tea', 'beer', 'wine', 'brandy', 'rum', 'champagne', 'water',\n",
    "                         'spaghetti', 'borscht', 'hamburger', 'pizza', 'falafel', 'sushi', 'meatballs',\n",
    "                         'dog', 'horse', 'cat', 'monkey', 'parrot', 'koala', 'lizard',\n",
    "                         'frog', 'toad', 'monkey', 'ape', 'kangaroo', 'wombat', 'wolf',\n",
    "                         'france', 'germany', 'hungary', 'luxembourg', 'australia', 'fiji', 'china',\n",
    "                         'homework', 'assignment', 'problem', 'exam', 'test', 'class',\n",
    "                         'school', 'college', 'university', 'institute'])"
   ]
  },
  {
   "cell_type": "markdown",
   "metadata": {},
   "source": [
    "## Word2Vec 직접 학습 해보기\n",
    ": 분석기에 따라 사용할 수 있는 함수가 조금씩 다릅니다.<br>\n",
    "##### 네이버의 영화 리뷰 데이터로 학습 해보겠습니다.\n",
    "##### 한국어 데이터이므로 KoNLPy로 토큰화 후에 Word2Vec으로 단어 임베딩을 학습합니다.<br>\n",
    "\n",
    "##### 데이터 출처:\n",
    "Naver sentiment movie corpus: https://github.com/e9t/nsmc/"
   ]
  },
  {
   "cell_type": "code",
   "execution_count": 19,
   "metadata": {},
   "outputs": [],
   "source": [
    "from konlpy.tag import Okt\n",
    "import pandas as pd\n",
    "import numpy as np\n",
    "import matplotlib.pyplot as plt\n",
    "%matplotlib inline\n",
    "\n"
   ]
  },
  {
   "cell_type": "code",
   "execution_count": 21,
   "metadata": {},
   "outputs": [],
   "source": [
    "# 데이터 불러오기\n",
    "movie_data = pd.read_table('C:\\\\Users\\\\gram\\\\Desktop\\\\와이빅타\\\\21-1 DA\\\\신입 교육\\\\ratings.txt')"
   ]
  },
  {
   "cell_type": "code",
   "execution_count": 22,
   "metadata": {},
   "outputs": [
    {
     "data": {
      "text/html": [
       "<div>\n",
       "<style scoped>\n",
       "    .dataframe tbody tr th:only-of-type {\n",
       "        vertical-align: middle;\n",
       "    }\n",
       "\n",
       "    .dataframe tbody tr th {\n",
       "        vertical-align: top;\n",
       "    }\n",
       "\n",
       "    .dataframe thead th {\n",
       "        text-align: right;\n",
       "    }\n",
       "</style>\n",
       "<table border=\"1\" class=\"dataframe\">\n",
       "  <thead>\n",
       "    <tr style=\"text-align: right;\">\n",
       "      <th></th>\n",
       "      <th>id</th>\n",
       "      <th>document</th>\n",
       "      <th>label</th>\n",
       "    </tr>\n",
       "  </thead>\n",
       "  <tbody>\n",
       "    <tr>\n",
       "      <th>0</th>\n",
       "      <td>8112052</td>\n",
       "      <td>어릴때보고 지금다시봐도 재밌어요ㅋㅋ</td>\n",
       "      <td>1</td>\n",
       "    </tr>\n",
       "    <tr>\n",
       "      <th>1</th>\n",
       "      <td>8132799</td>\n",
       "      <td>디자인을 배우는 학생으로, 외국디자이너와 그들이 일군 전통을 통해 발전해가는 문화산...</td>\n",
       "      <td>1</td>\n",
       "    </tr>\n",
       "    <tr>\n",
       "      <th>2</th>\n",
       "      <td>4655635</td>\n",
       "      <td>폴리스스토리 시리즈는 1부터 뉴까지 버릴께 하나도 없음.. 최고.</td>\n",
       "      <td>1</td>\n",
       "    </tr>\n",
       "    <tr>\n",
       "      <th>3</th>\n",
       "      <td>9251303</td>\n",
       "      <td>와.. 연기가 진짜 개쩔구나.. 지루할거라고 생각했는데 몰입해서 봤다.. 그래 이런...</td>\n",
       "      <td>1</td>\n",
       "    </tr>\n",
       "    <tr>\n",
       "      <th>4</th>\n",
       "      <td>10067386</td>\n",
       "      <td>안개 자욱한 밤하늘에 떠 있는 초승달 같은 영화.</td>\n",
       "      <td>1</td>\n",
       "    </tr>\n",
       "  </tbody>\n",
       "</table>\n",
       "</div>"
      ],
      "text/plain": [
       "         id                                           document  label\n",
       "0   8112052                                어릴때보고 지금다시봐도 재밌어요ㅋㅋ      1\n",
       "1   8132799  디자인을 배우는 학생으로, 외국디자이너와 그들이 일군 전통을 통해 발전해가는 문화산...      1\n",
       "2   4655635               폴리스스토리 시리즈는 1부터 뉴까지 버릴께 하나도 없음.. 최고.      1\n",
       "3   9251303  와.. 연기가 진짜 개쩔구나.. 지루할거라고 생각했는데 몰입해서 봤다.. 그래 이런...      1\n",
       "4  10067386                        안개 자욱한 밤하늘에 떠 있는 초승달 같은 영화.      1"
      ]
     },
     "execution_count": 22,
     "metadata": {},
     "output_type": "execute_result"
    }
   ],
   "source": [
    "movie_data.head()"
   ]
  },
  {
   "cell_type": "code",
   "execution_count": 23,
   "metadata": {},
   "outputs": [],
   "source": [
    "# 결측치 제거\n",
    "movie_data.dropna(inplace=True)"
   ]
  },
  {
   "cell_type": "code",
   "execution_count": 24,
   "metadata": {},
   "outputs": [
    {
     "name": "stdout",
     "output_type": "stream",
     "text": [
      "<class 'pandas.core.frame.DataFrame'>\n",
      "Int64Index: 199992 entries, 0 to 199999\n",
      "Data columns (total 3 columns):\n",
      " #   Column    Non-Null Count   Dtype \n",
      "---  ------    --------------   ----- \n",
      " 0   id        199992 non-null  int64 \n",
      " 1   document  199992 non-null  object\n",
      " 2   label     199992 non-null  int64 \n",
      "dtypes: int64(2), object(1)\n",
      "memory usage: 6.1+ MB\n"
     ]
    }
   ],
   "source": [
    "movie_data.info()"
   ]
  },
  {
   "cell_type": "code",
   "execution_count": 25,
   "metadata": {},
   "outputs": [],
   "source": [
    "# 한글 외 문자 제거\n",
    "movie_data['document'] = movie_data['document'].str.replace(\"[^ㄱ-ㅎㅏ-ㅣ가-힣 ]\",\"\")"
   ]
  },
  {
   "cell_type": "code",
   "execution_count": 26,
   "metadata": {},
   "outputs": [
    {
     "data": {
      "text/html": [
       "<div>\n",
       "<style scoped>\n",
       "    .dataframe tbody tr th:only-of-type {\n",
       "        vertical-align: middle;\n",
       "    }\n",
       "\n",
       "    .dataframe tbody tr th {\n",
       "        vertical-align: top;\n",
       "    }\n",
       "\n",
       "    .dataframe thead th {\n",
       "        text-align: right;\n",
       "    }\n",
       "</style>\n",
       "<table border=\"1\" class=\"dataframe\">\n",
       "  <thead>\n",
       "    <tr style=\"text-align: right;\">\n",
       "      <th></th>\n",
       "      <th>id</th>\n",
       "      <th>document</th>\n",
       "      <th>label</th>\n",
       "    </tr>\n",
       "  </thead>\n",
       "  <tbody>\n",
       "    <tr>\n",
       "      <th>0</th>\n",
       "      <td>8112052</td>\n",
       "      <td>어릴때보고 지금다시봐도 재밌어요ㅋㅋ</td>\n",
       "      <td>1</td>\n",
       "    </tr>\n",
       "    <tr>\n",
       "      <th>1</th>\n",
       "      <td>8132799</td>\n",
       "      <td>디자인을 배우는 학생으로 외국디자이너와 그들이 일군 전통을 통해 발전해가는 문화산업...</td>\n",
       "      <td>1</td>\n",
       "    </tr>\n",
       "    <tr>\n",
       "      <th>2</th>\n",
       "      <td>4655635</td>\n",
       "      <td>폴리스스토리 시리즈는 부터 뉴까지 버릴께 하나도 없음 최고</td>\n",
       "      <td>1</td>\n",
       "    </tr>\n",
       "    <tr>\n",
       "      <th>3</th>\n",
       "      <td>9251303</td>\n",
       "      <td>와 연기가 진짜 개쩔구나 지루할거라고 생각했는데 몰입해서 봤다 그래 이런게 진짜 영화지</td>\n",
       "      <td>1</td>\n",
       "    </tr>\n",
       "    <tr>\n",
       "      <th>4</th>\n",
       "      <td>10067386</td>\n",
       "      <td>안개 자욱한 밤하늘에 떠 있는 초승달 같은 영화</td>\n",
       "      <td>1</td>\n",
       "    </tr>\n",
       "  </tbody>\n",
       "</table>\n",
       "</div>"
      ],
      "text/plain": [
       "         id                                           document  label\n",
       "0   8112052                                어릴때보고 지금다시봐도 재밌어요ㅋㅋ      1\n",
       "1   8132799  디자인을 배우는 학생으로 외국디자이너와 그들이 일군 전통을 통해 발전해가는 문화산업...      1\n",
       "2   4655635                   폴리스스토리 시리즈는 부터 뉴까지 버릴께 하나도 없음 최고      1\n",
       "3   9251303   와 연기가 진짜 개쩔구나 지루할거라고 생각했는데 몰입해서 봤다 그래 이런게 진짜 영화지      1\n",
       "4  10067386                         안개 자욱한 밤하늘에 떠 있는 초승달 같은 영화      1"
      ]
     },
     "execution_count": 26,
     "metadata": {},
     "output_type": "execute_result"
    }
   ],
   "source": [
    "movie_data.head()"
   ]
  },
  {
   "cell_type": "code",
   "execution_count": 27,
   "metadata": {},
   "outputs": [],
   "source": [
    "# 불용어 정의\n",
    "stopwords = ['의','가','이','은','들','는','좀','잘','걍','과','도','를','으로','자','에','와','한','하다']"
   ]
  },
  {
   "cell_type": "code",
   "execution_count": 28,
   "metadata": {},
   "outputs": [],
   "source": [
    "# Okt를 사용한 토큰화 작업 및 stopwords 제거\n",
    "okt = Okt()\n",
    "tokenized_data = []\n",
    "for sentence in movie_data['document']:\n",
    "    temp_X = okt.morphs(sentence, stem=True) # 토큰화\n",
    "    temp_X = [word for word in temp_X if not word in stopwords] # 불용어 제거\n",
    "    tokenized_data.append(temp_X)"
   ]
  },
  {
   "cell_type": "code",
   "execution_count": 29,
   "metadata": {},
   "outputs": [
    {
     "name": "stdout",
     "output_type": "stream",
     "text": [
      "리뷰의 최대 길이 : 72\n",
      "리뷰의 평균 길이 : 10.716703668146726\n"
     ]
    },
    {
     "data": {
      "image/png": "[encoded data removed]",
      "text/plain": [
       "<Figure size 432x288 with 1 Axes>"
      ]
     },
     "metadata": {
      "needs_background": "light"
     },
     "output_type": "display_data"
    }
   ],
   "source": [
    "# 리뷰 길이 분포 확인\n",
    "print('리뷰의 최대 길이 :',max(len(l) for l in tokenized_data))\n",
    "print('리뷰의 평균 길이 :',sum(map(len, tokenized_data))/len(tokenized_data))\n",
    "plt.hist([len(s) for s in tokenized_data], bins=50)\n",
    "plt.xlabel('length of samples')\n",
    "plt.ylabel('number of samples')\n",
    "plt.show()"
   ]
  },
  {
   "cell_type": "code",
   "execution_count": 30,
   "metadata": {},
   "outputs": [],
   "source": [
    "# Word2Vec 모델 학습시키기\n",
    "\n",
    "from gensim.models import Word2Vec\n",
    "model = Word2Vec(sentences = tokenized_data, size = 100, window = 5, min_count = 5, workers = 4, sg = 0)"
   ]
  },
  {
   "cell_type": "code",
   "execution_count": 31,
   "metadata": {},
   "outputs": [
    {
     "data": {
      "text/plain": [
       "(16477, 100)"
      ]
     },
     "execution_count": 31,
     "metadata": {},
     "output_type": "execute_result"
    }
   ],
   "source": [
    "# 완성된 임베딩 매트릭스의 크기 확인\n",
    "model.wv.vectors.shape"
   ]
  },
  {
   "cell_type": "code",
   "execution_count": 32,
   "metadata": {},
   "outputs": [
    {
     "data": {
      "text/plain": [
       "array([-0.5180502 ,  0.6598783 , -0.5137467 , -1.1833763 ,  0.4549737 ,\n",
       "       -0.3678858 , -0.01723727, -1.9154675 ,  0.8986612 ,  0.32654402,\n",
       "       -0.5692081 , -2.2573435 , -0.5842949 ,  0.12159289, -0.4222634 ,\n",
       "        0.01752578, -0.10369518,  1.0719602 ,  0.52740264, -1.4625949 ,\n",
       "        1.4449162 , -2.3538475 , -1.6341274 ,  0.14785928,  0.19894847,\n",
       "        1.4028684 , -0.9852006 , -0.4340017 ,  0.55120605,  0.349128  ,\n",
       "       -1.3651057 , -0.79438496, -2.082111  , -1.739968  ,  1.5848168 ,\n",
       "        1.3095796 ,  0.19070417,  1.6993709 ,  0.76545495, -0.44798666,\n",
       "        0.14167568, -0.88379973,  1.0296522 , -1.413814  , -0.5838227 ,\n",
       "       -0.6068551 ,  0.5241851 , -1.2247089 ,  0.47204134, -1.1530404 ,\n",
       "       -0.73674685, -0.690228  ,  0.01682815,  0.25775826,  0.8376362 ,\n",
       "        1.5139041 ,  0.3270404 , -1.3944497 ,  2.0323942 ,  1.3959945 ,\n",
       "       -1.6240726 , -0.76559913, -1.0371737 ,  0.8250459 ,  1.250013  ,\n",
       "        0.8771481 ,  1.5033991 ,  2.3037913 ,  1.5683353 ,  0.38604102,\n",
       "        0.8831898 ,  0.63584596,  0.7693153 , -1.4626517 , -0.38132474,\n",
       "       -0.6966269 , -0.9041673 ,  0.4505367 ,  0.60068727, -0.6780833 ,\n",
       "        0.06322999,  0.0802661 ,  0.5820084 ,  2.2724216 ,  0.09838165,\n",
       "        0.9228021 ,  0.6811747 ,  2.038007  , -0.5445633 ,  2.4104567 ,\n",
       "        0.97015524,  0.57424664, -0.66345406, -1.0860242 , -0.94832915,\n",
       "        1.8987187 ,  0.7895012 ,  0.2133488 ,  0.49536893, -0.29691988],\n",
       "      dtype=float32)"
      ]
     },
     "execution_count": 32,
     "metadata": {},
     "output_type": "execute_result"
    }
   ],
   "source": [
    "model.wv['아름답다']"
   ]
  },
  {
   "cell_type": "code",
   "execution_count": 33,
   "metadata": {},
   "outputs": [
    {
     "name": "stdout",
     "output_type": "stream",
     "text": [
      "[('사랑스럽다', 0.723093569278717), ('순수하다', 0.6883080005645752), ('쓸쓸하다', 0.6675792336463928), ('처절하다', 0.6472553014755249), ('애틋하다', 0.6432672142982483), ('뜨겁다', 0.638555645942688), ('애잔하다', 0.6349892616271973), ('흥겹다', 0.6302186846733093), ('풍경', 0.629530131816864), ('안타깝다', 0.6166267395019531)]\n"
     ]
    }
   ],
   "source": [
    "print(model.wv.most_similar(\"아름답다\"))"
   ]
  },
  {
   "cell_type": "code",
   "execution_count": 34,
   "metadata": {},
   "outputs": [
    {
     "name": "stdout",
     "output_type": "stream",
     "text": [
      "[('평', 0.8257479667663574), ('점수', 0.8076332807540894), ('평정', 0.7676838636398315), ('댓글', 0.7280048727989197), ('평이', 0.7255051136016846), ('리뷰', 0.6823663115501404), ('수위', 0.6773098707199097), ('평론', 0.6540099382400513), ('평가', 0.6382112503051758), ('악평', 0.5951497554779053)]\n"
     ]
    }
   ],
   "source": [
    "print(model.wv.most_similar(\"평점\"))"
   ]
  },
  {
   "cell_type": "code",
   "execution_count": 35,
   "metadata": {},
   "outputs": [
    {
     "name": "stdout",
     "output_type": "stream",
     "text": [
      "[('설경구', 0.8975592255592346), ('차승원', 0.895277738571167), ('류승범', 0.8906619548797607), ('김혜수', 0.8814238905906677), ('디카프리오', 0.8813457489013672), ('엄정화', 0.8738111257553101), ('신하균', 0.8675880432128906), ('한석규', 0.859011709690094), ('황정민', 0.8571609854698181), ('최민식', 0.845702052116394)]\n"
     ]
    }
   ],
   "source": [
    "print(model.wv.most_similar(\"송강호\"))"
   ]
  },
  {
   "cell_type": "code",
   "execution_count": null,
   "metadata": {},
   "outputs": [],
   "source": []
  }
 ],
 "metadata": {
  "kernelspec": {
   "display_name": "Python 3",
   "language": "python",
   "name": "python3"
  },
  "language_info": {
   "codemirror_mode": {
    "name": "ipython",
    "version": 3
   },
   "file_extension": ".py",
   "mimetype": "text/x-python",
   "name": "python",
   "nbconvert_exporter": "python",
   "pygments_lexer": "ipython3",
   "version": "3.8.3"
  }
 },
 "nbformat": 4,
 "nbformat_minor": 4
}
